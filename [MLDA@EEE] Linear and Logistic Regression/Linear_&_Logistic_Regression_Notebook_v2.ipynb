{
 "cells": [
  {
   "cell_type": "markdown",
   "metadata": {
    "id": "6z3iFSI4YJ4w"
   },
   "source": [
    "# Essential Libraries\n",
    "\n",
    "- ```Pandas```: Library for data acquisition and preparation\n",
    "- ```NumPy```: Library for numeric computations in python\n",
    "- ```Matplotlib```: Low-level library for data visualisation\n",
    "- ```Seaborn```: Higher-level library for data visualisation\n",
    "- ```scikit-learn```: Basic library for machine learning\n",
    "- ```mpl_toolkits.mplot3d```: Library to handle 3D data visualisation"
   ]
  },
  {
   "cell_type": "code",
   "execution_count": null,
   "metadata": {
    "id": "thR_JWPToRNO"
   },
   "outputs": [],
   "source": [
    "import pandas as pd\n",
    "import numpy as np\n",
    "import matplotlib.pyplot as plt\n",
    "import seaborn as sns\n",
    "%matplotlib inline\n",
    "sns.set()"
   ]
  },
  {
   "cell_type": "markdown",
   "metadata": {
    "id": "QQzCPM8_oRNV"
   },
   "source": [
    "# Simple Linear Regression\n",
    "\n",
    "NBA Players Dataset from: https://www.kaggle.com/justinas/nba-height-and-weight-analysis/?select=all_seasons.csv\n",
    "\n",
    "Quick download link: https://drive.google.com/file/d/19u4DF8b5YT4ODbo1SCdmpsosRtBgzhVo/view?usp=sharing\n",
    "\n",
    "Columns include:\n",
    "*   player_name\n",
    "*   team_abbreviation\n",
    "*   age\n",
    "*   player_height - in kg\n",
    "*   player_weight - in kg\n",
    "*   college - Name of the college the player attended\n",
    "*   country - Name of the country the player was born in\n",
    "*   draft year - The year the player was drafted\n",
    "*   draft round - The draft round the player was picked\n",
    "*   draft number - The number at which the player was picked in his draft round\n",
    "*   gp - Games played throughout the season\n",
    "*   pts - Average number of points scored\n",
    "*   reb - Average number of rebounds grabbed\n",
    "*   ast - Average number of assists distributed\n",
    "*   net_rating - Team's point differential per 100 possessions while the player is on the court\n",
    "*   oreb_pct - Percentage of available offensive rebounds the player grabbed while he was on the floor\n",
    "*   dreb_pct - Percentage of available defensive rebounds the player grabbed while he was on the floor\n",
    "*   usg_pct - Percentage of team plays used by the player while he was on the floor (FGA + Possession Ending FTA + TO) / POSS)\n",
    "*   ts_pct - Measure of the player's shooting efficiency that takes into account free throws, 2 and 3 point shots (PTS / (2*(FGA + 0.44 * FTA)))\n",
    "*   ast_pct - Percentage of teammate field goals the player assisted while he was on the floor\n",
    "*   season - NBA season\n",
    "\n",
    "\n",
    "\n",
    "\n",
    "\n",
    "\n",
    "\n",
    "\n",
    "\n",
    "\n",
    "\n",
    "\n",
    "\n",
    "\n",
    "\n"
   ]
  },
  {
   "cell_type": "code",
   "execution_count": null,
   "metadata": {
    "colab": {
     "base_uri": "https://localhost:8080/",
     "height": 333
    },
    "id": "GYjYpF83oRNV",
    "outputId": "511f127a-7848-4e4e-af5b-0649b15c7828"
   },
   "outputs": [],
   "source": [
    "df = pd.read_csv('all_seasons.csv')\n",
    "df.head()"
   ]
  },
  {
   "cell_type": "markdown",
   "metadata": {
    "id": "pReiOt8_Zgc0"
   },
   "source": [
    "We will start by analysing whether the weight of a NBA player is a good predicting factor for the height of that particular player.\n"
   ]
  },
  {
   "cell_type": "code",
   "execution_count": null,
   "metadata": {
    "colab": {
     "base_uri": "https://localhost:8080/",
     "height": 402
    },
    "id": "RLGk0gM3oRNW",
    "outputId": "ccdb7dac-9a39-404a-d60a-bb9fe92fb445"
   },
   "outputs": [],
   "source": [
    "simple_df = df[['player_weight', 'player_height']]\n",
    "simple_df"
   ]
  },
  {
   "cell_type": "markdown",
   "metadata": {
    "id": "oGldgtvC2oNJ"
   },
   "source": [
    "Plotting and Analysing Correlation"
   ]
  },
  {
   "cell_type": "code",
   "execution_count": null,
   "metadata": {
    "colab": {
     "base_uri": "https://localhost:8080/",
     "height": 285
    },
    "id": "ICHNCE1g2mes",
    "outputId": "dde6c34b-2682-4f2c-b920-052810dae7fe"
   },
   "outputs": [],
   "source": [
    "sns.scatterplot(data=simple_df, x='player_weight', y='player_height');"
   ]
  },
  {
   "cell_type": "code",
   "execution_count": null,
   "metadata": {
    "colab": {
     "base_uri": "https://localhost:8080/"
    },
    "id": "Z4JGgaDl2zAj",
    "outputId": "44f23952-aa55-4ba5-b114-c7b8d6291775"
   },
   "outputs": [],
   "source": [
    "simple_df.player_weight.corr(simple_df.player_height, method='pearson')"
   ]
  },
  {
   "cell_type": "markdown",
   "metadata": {
    "id": "RIJNh3yUeuei"
   },
   "source": [
    "Using the formula:\n",
    "\n",
    "\\\\[b_0=\\bar{y}-b_1\\bar{x}; ~~~ b_1=\\frac{\\sum_{i=1}^n(x_i-\\bar{x})(y_i-\\bar{y})}{\\sum_{i=1}^n(x_i-\\bar{x})^2}\\\\]"
   ]
  },
  {
   "cell_type": "code",
   "execution_count": null,
   "metadata": {
    "colab": {
     "base_uri": "https://localhost:8080/"
    },
    "id": "LIh8bIhhoRNW",
    "outputId": "f291623e-4672-449a-98a3-ca695f737028"
   },
   "outputs": [],
   "source": [
    "X = simple_df['player_weight'].values\n",
    "Y = simple_df['player_height'].values\n",
    "mean_x = np.mean(X)\n",
    "mean_y = np.mean(Y)\n",
    "\n",
    "n = len(X)\n",
    "\n",
    "numer = 0\n",
    "denom = 0\n",
    "for i in range(n):\n",
    "    numer += (X[i] - mean_x) * (Y[i] - mean_y)\n",
    "    denom += (X[i] - mean_x) ** 2\n",
    "    \n",
    "b1 = numer/denom\n",
    "b0 = mean_y - b1 * mean_x\n",
    "\n",
    "print(\"coefficient:\", b1, \"\\nintercept:\", b0)"
   ]
  },
  {
   "cell_type": "markdown",
   "metadata": {
    "id": "W0DNjAC9DBE-"
   },
   "source": [
    "Documentation for sklearn's linear regression model (normal equation): \n",
    "\n",
    "https://scikit-learn.org/stable/modules/generated/sklearn.linear_model.LinearRegression.html\n",
    "\n",
    "---\n",
    "\n"
   ]
  },
  {
   "cell_type": "code",
   "execution_count": null,
   "metadata": {
    "colab": {
     "base_uri": "https://localhost:8080/"
    },
    "id": "2JKMWNMZoRNX",
    "outputId": "1ef1d8c4-9d77-4c9c-e64b-ef080d07e123"
   },
   "outputs": [],
   "source": [
    "X = X.reshape((len(X), 1)) # reshaping the array to fit as input for sklearn framework  \n",
    "from sklearn.linear_model import LinearRegression\n",
    "\n",
    "# instantiate linear regression object\n",
    "reg = LinearRegression()\n",
    "# train the model\n",
    "reg.fit(X, Y)"
   ]
  },
  {
   "cell_type": "code",
   "execution_count": null,
   "metadata": {
    "colab": {
     "base_uri": "https://localhost:8080/"
    },
    "id": "RNyIXHL9Eve8",
    "outputId": "fa86536e-4e13-490d-a8b3-51c8c734213d"
   },
   "outputs": [],
   "source": [
    "print(\"coefficient: \", reg.coef_[0])\n",
    "print(\"intercept: \", reg.intercept_)"
   ]
  },
  {
   "cell_type": "code",
   "execution_count": null,
   "metadata": {
    "colab": {
     "base_uri": "https://localhost:8080/"
    },
    "id": "IlHh8jQ4Ex55",
    "outputId": "8c521785-c7d9-4fa8-864f-8e4dfb55c336"
   },
   "outputs": [],
   "source": [
    "# evaluate with built-in r2 score function\n",
    "reg.score(X, Y)"
   ]
  },
  {
   "cell_type": "code",
   "execution_count": null,
   "metadata": {
    "colab": {
     "base_uri": "https://localhost:8080/",
     "height": 229
    },
    "id": "iPXTjE7WlLli",
    "outputId": "83ad8791-cb44-4993-fed7-b5544dfbefe0"
   },
   "outputs": [],
   "source": [
    "sns.set(rc={'figure.figsize':(4,3)})\n",
    "sns.heatmap(data=simple_df.corr(), annot=True);"
   ]
  },
  {
   "cell_type": "markdown",
   "metadata": {
    "id": "IYfrB_yJ49p6"
   },
   "source": [
    "## Lasso Regression\n",
    "\n",
    "[Documentation](https://scikit-learn.org/stable/modules/generated/sklearn.linear_model.Lasso.html) for sklearn's lasso regression model:"
   ]
  },
  {
   "cell_type": "code",
   "execution_count": null,
   "metadata": {
    "colab": {
     "base_uri": "https://localhost:8080/"
    },
    "id": "FVnSO9tm2-CM",
    "outputId": "3bc6f79d-d7c4-4f7a-b098-be386833e230"
   },
   "outputs": [],
   "source": [
    "from sklearn.linear_model import Lasso\n",
    "lasso_reg = Lasso(alpha=2)\n",
    "lasso_reg.fit(X, Y)\n",
    "lasso_reg.score(X, Y)"
   ]
  },
  {
   "cell_type": "markdown",
   "metadata": {
    "id": "UY5acXWY5a4l"
   },
   "source": [
    "## Ridge Regression\n",
    "\n",
    "[Documentation](https://scikit-learn.org/stable/modules/generated/sklearn.linear_model.Ridge.html) for sklearn's ridge regression model:"
   ]
  },
  {
   "cell_type": "code",
   "execution_count": null,
   "metadata": {
    "colab": {
     "base_uri": "https://localhost:8080/"
    },
    "id": "u73zVEe23PBT",
    "outputId": "cb15aaf1-038d-42e0-b946-c3a8deb7cf60"
   },
   "outputs": [],
   "source": [
    "from sklearn.linear_model import Ridge\n",
    "ridge_reg = Ridge(alpha=2)\n",
    "ridge_reg.fit(X, Y)\n",
    "ridge_reg.score(X, Y)"
   ]
  },
  {
   "cell_type": "markdown",
   "metadata": {
    "id": "gsrs8rP681Qd"
   },
   "source": [
    "## Combined Plots"
   ]
  },
  {
   "cell_type": "code",
   "execution_count": null,
   "metadata": {
    "colab": {
     "base_uri": "https://localhost:8080/",
     "height": 611
    },
    "id": "C_b7gPnP6oMf",
    "outputId": "6b364c44-4660-4e4e-920d-53054f63e1e4"
   },
   "outputs": [],
   "source": [
    "plt.figure(figsize=(10, 10))\n",
    "\n",
    "max_x = np.max(X)\n",
    "min_x = np.min(X)\n",
    "\n",
    "x = np.linspace(min_x, max_x, 1000)\n",
    "y_lin = reg.coef_[0]*x + reg.intercept_\n",
    "y_las = lasso_reg.coef_[0]*x + lasso_reg.intercept_\n",
    "y_rid = ridge_reg.coef_[0]*x + ridge_reg.intercept_\n",
    "\n",
    "# plotting the regression line\n",
    "plt.plot(x, y_lin, 'r-', label='linear regression')\n",
    "plt.plot(x, y_las, 'g-', label='lasso regression')\n",
    "plt.plot(x, y_rid, 'b-', label='ridge regression')\n",
    "\n",
    "# plotting the training samples\n",
    "plt.scatter(X, Y, label='scatter plot')\n",
    "\n",
    "plt.xlabel('player_weight')\n",
    "plt.ylabel('player_height')\n",
    "plt.legend()\n",
    "plt.show()"
   ]
  },
  {
   "cell_type": "markdown",
   "metadata": {
    "id": "crkZ0uLyoRNY"
   },
   "source": [
    "## SGDRegressor\n",
    "\n",
    "For more insights on Stochastic Gradient Descent: \n",
    "\n",
    "https://rumankhan1.medium.com/understanding-optimization-in-ml-with-gradient-descent-implement-sgd-regressor-from-scratch-4e11dac74c9\n",
    "\n",
    "Documentation for sklearn's SGDRegressor(gradient descent):\n",
    "\n",
    "https://scikit-learn.org/stable/modules/generated/sklearn.linear_model.SGDRegressor.html"
   ]
  },
  {
   "cell_type": "code",
   "execution_count": null,
   "metadata": {
    "id": "rZs9V82woRNY"
   },
   "outputs": [],
   "source": [
    "from sklearn.linear_model import SGDRegressor\n",
    "\n",
    "# Try changing verbose to 1 instead to see the loss for each epoch\n",
    "SGDReg = SGDRegressor(eta0 = 0.000001, verbose=0, max_iter=1000, learning_rate='adaptive')"
   ]
  },
  {
   "cell_type": "markdown",
   "metadata": {
    "id": "AFb4St2eDjpV"
   },
   "source": [
    "Documentation for sklearn's standard scaler:\n",
    "\n",
    "https://scikit-learn.org/stable/modules/generated/sklearn.preprocessing.StandardScaler.html"
   ]
  },
  {
   "cell_type": "code",
   "execution_count": null,
   "metadata": {
    "id": "zVYSLHfGoRNY"
   },
   "outputs": [],
   "source": [
    "# scaling the data according to standard normal distribution ==> z = (x - u) / s\n",
    "from sklearn.preprocessing import StandardScaler\n",
    "scaler = StandardScaler().fit(X)\n",
    "X_scaled = scaler.transform(X)"
   ]
  },
  {
   "cell_type": "code",
   "execution_count": null,
   "metadata": {
    "colab": {
     "base_uri": "https://localhost:8080/"
    },
    "id": "iFOM35GhoRNY",
    "outputId": "931e3a62-3bde-4566-b1eb-991fa4331e93"
   },
   "outputs": [],
   "source": [
    "SGDReg.fit(X_scaled, Y)"
   ]
  },
  {
   "cell_type": "code",
   "execution_count": null,
   "metadata": {
    "colab": {
     "base_uri": "https://localhost:8080/"
    },
    "id": "C85enBuroRNZ",
    "outputId": "49f76fc3-00e7-4b0b-8623-c4ff30a49caf"
   },
   "outputs": [],
   "source": [
    "# note that coefficient and intercept of regressor cannot be compared to sklearn linear regression model \n",
    "# as the training samples in regressor has been scaled\n",
    "\n",
    "print(\"coefficient: \", SGDReg.coef_)\n",
    "print(\"intercept: \", SGDReg.intercept_)"
   ]
  },
  {
   "cell_type": "code",
   "execution_count": null,
   "metadata": {
    "colab": {
     "base_uri": "https://localhost:8080/"
    },
    "id": "jtPAvdNFoRNZ",
    "outputId": "c04f0657-3e3b-48f6-ce63-9a40af812c7b"
   },
   "outputs": [],
   "source": [
    "# evaluate with built-in r2 score function\n",
    "SGDReg.score(X_scaled, Y)"
   ]
  },
  {
   "cell_type": "markdown",
   "metadata": {
    "id": "lFxd9voLoRNZ"
   },
   "source": [
    "## Mutiple Variable Linear Regression"
   ]
  },
  {
   "cell_type": "markdown",
   "metadata": {
    "id": "LV8pg0NtdgTc"
   },
   "source": [
    "Maybe weight itself is not a good enough predictor for a player's height. For this part, we shall add in another predictor variable called 'reb', which is the average number of rebounds grabbed per game by a player. Rebound means ball or shot that bounces back after striking a the frame or the rim."
   ]
  },
  {
   "cell_type": "code",
   "execution_count": null,
   "metadata": {
    "colab": {
     "base_uri": "https://localhost:8080/",
     "height": 402
    },
    "id": "5t8Kf6kuoRNZ",
    "outputId": "10692600-dffb-4384-e166-9c667d6c5fe0"
   },
   "outputs": [],
   "source": [
    "df_multi = df[['player_weight', 'reb', 'player_height']]\n",
    "df_multi"
   ]
  },
  {
   "cell_type": "code",
   "execution_count": null,
   "metadata": {
    "colab": {
     "base_uri": "https://localhost:8080/",
     "height": 284
    },
    "id": "36Kt8fsPoRNa",
    "outputId": "5a74d4fa-323e-4c3d-e74a-1744182fcb56"
   },
   "outputs": [],
   "source": [
    "df_multi.describe()"
   ]
  },
  {
   "cell_type": "code",
   "execution_count": null,
   "metadata": {
    "id": "3ftv0C3boRNa"
   },
   "outputs": [],
   "source": [
    "X = df_multi[['player_weight', 'reb']].values.reshape((-1, 2))\n",
    "Y = df_multi['player_height']"
   ]
  },
  {
   "cell_type": "code",
   "execution_count": null,
   "metadata": {
    "colab": {
     "base_uri": "https://localhost:8080/"
    },
    "id": "pCZVnsicoRNa",
    "outputId": "fdaca82e-b473-4951-a081-be7a2f3b41a2"
   },
   "outputs": [],
   "source": [
    "from sklearn.linear_model import LinearRegression\n",
    "reg = LinearRegression()\n",
    "reg.fit(X, Y)"
   ]
  },
  {
   "cell_type": "code",
   "execution_count": null,
   "metadata": {
    "colab": {
     "base_uri": "https://localhost:8080/"
    },
    "id": "EwkmWdXYnxnZ",
    "outputId": "64cb289e-b907-4df9-d3e2-514622f4e107"
   },
   "outputs": [],
   "source": [
    "print(\"coefficients: \", reg.coef_)\n",
    "print(\"intercept: \", reg.intercept_)"
   ]
  },
  {
   "cell_type": "code",
   "execution_count": null,
   "metadata": {
    "colab": {
     "base_uri": "https://localhost:8080/"
    },
    "id": "iPyGBMcNUR8D",
    "outputId": "c1ac97e9-9c71-4da3-ed74-0cb042afee0c"
   },
   "outputs": [],
   "source": [
    "# abit of improvement from the previous model with only 1 predictor variable\n",
    "reg.score(X, Y)"
   ]
  },
  {
   "cell_type": "code",
   "execution_count": null,
   "metadata": {
    "colab": {
     "base_uri": "https://localhost:8080/",
     "height": 218
    },
    "id": "GDOqQUNkl5gk",
    "outputId": "b85b4ec3-9d14-4a87-b26c-716f58048f85"
   },
   "outputs": [],
   "source": [
    "sns.set(rc={'figure.figsize':(4,3)})\n",
    "sns.heatmap(data=df_multi.corr(), annot=True);"
   ]
  },
  {
   "cell_type": "markdown",
   "metadata": {
    "id": "VpLSN8JAjYXo"
   },
   "source": [
    "3D Visualisation of the Multivariate Linear Regression Model\n"
   ]
  },
  {
   "cell_type": "code",
   "execution_count": null,
   "metadata": {
    "id": "C63stE8noRNa"
   },
   "outputs": [],
   "source": [
    "from mpl_toolkits.mplot3d import Axes3D"
   ]
  },
  {
   "cell_type": "code",
   "execution_count": null,
   "metadata": {
    "id": "DxSdD6hKoRNa"
   },
   "outputs": [],
   "source": [
    "# setup\n",
    "x = X[:, 0]\n",
    "y = X[:, 1]\n",
    "z = Y\n",
    "\n",
    "x_pred = np.linspace(60, 180, 100)   # range of porosity values\n",
    "y_pred = np.linspace(0, 20, 100)  # range of brittleness values\n",
    "xx_pred, yy_pred = np.meshgrid(x_pred, y_pred)\n",
    "model_viz = np.array([xx_pred.flatten(), yy_pred.flatten()]).T\n",
    "\n",
    "# train model\n",
    "multi_reg = LinearRegression()\n",
    "model = multi_reg.fit(X, Y)\n",
    "predicted = model.predict(model_viz)"
   ]
  },
  {
   "cell_type": "code",
   "execution_count": null,
   "metadata": {
    "colab": {
     "base_uri": "https://localhost:8080/",
     "height": 534
    },
    "id": "7SKFVBQioRNa",
    "outputId": "d208cd5d-55a6-4bca-e147-18612ae16bbf"
   },
   "outputs": [],
   "source": [
    "#plotting 3D models\n",
    "plt.style.use('default')\n",
    "\n",
    "fig = plt.figure(figsize=(12, 5.5))\n",
    "\n",
    "ax1 = fig.add_subplot(131, projection='3d')\n",
    "ax2 = fig.add_subplot(132, projection='3d')\n",
    "ax3 = fig.add_subplot(133, projection='3d')\n",
    "\n",
    "axes = [ax1, ax2, ax3]\n",
    "\n",
    "for ax in axes:\n",
    "    ax.plot(x, y, z, color='k', zorder=15, linestyle='none', marker='o', alpha=0.5)\n",
    "    ax.scatter(xx_pred.flatten(), yy_pred.flatten(), predicted, facecolor=(0,0,0,0), s=20, edgecolor='#70b3f0')\n",
    "    ax.set_xlabel('player_weight', fontsize=12)\n",
    "    ax.set_ylabel('reb', fontsize=12)\n",
    "    ax.set_zlabel('player_height', fontsize=12)\n",
    "    ax.locator_params(nbins=4, axis='x')\n",
    "    ax.locator_params(nbins=5, axis='x')\n",
    "\n",
    "# credits\n",
    "ax1.text2D(0.2, 0.32, 'aegis4048.github.io', fontsize=13, ha='center', va='center',\n",
    "           transform=ax1.transAxes, color='grey', alpha=0.5)\n",
    "ax2.text2D(0.3, 0.42, 'aegis4048.github.io', fontsize=13, ha='center', va='center',\n",
    "           transform=ax2.transAxes, color='grey', alpha=0.5)\n",
    "ax3.text2D(0.85, 0.85, 'aegis4048.github.io', fontsize=13, ha='center', va='center',\n",
    "           transform=ax3.transAxes, color='grey', alpha=0.5)\n",
    "\n",
    "# ‘elev’ stores the elevation angle in the z plane. ‘azim’ stores the azimuth angle in the x,y plane.\n",
    "ax1.view_init(elev=20, azim=30)\n",
    "ax2.view_init(elev=4, azim=100)\n",
    "ax3.view_init(elev=60, azim=170)\n",
    "\n",
    "fig.tight_layout()"
   ]
  },
  {
   "cell_type": "markdown",
   "metadata": {
    "id": "HkYn0FnXoRNb"
   },
   "source": [
    "# Full Pipeline Walkthrough (Linear Regression)"
   ]
  },
  {
   "cell_type": "markdown",
   "metadata": {
    "id": "OvZXq9_FoRNb"
   },
   "source": [
    "### Import Libraries"
   ]
  },
  {
   "cell_type": "code",
   "execution_count": null,
   "metadata": {
    "id": "L8lUW8JZoRNb"
   },
   "outputs": [],
   "source": [
    "import pandas as pd\n",
    "import numpy as np\n",
    "import matplotlib.pyplot as plt\n",
    "import seaborn as sns\n",
    "%matplotlib inline"
   ]
  },
  {
   "cell_type": "markdown",
   "metadata": {
    "id": "rJsYxlkgoRNc"
   },
   "source": [
    "### Exploratory Data Analysis"
   ]
  },
  {
   "cell_type": "markdown",
   "metadata": {
    "id": "RXOtjh5UoRNc"
   },
   "source": [
    "Dataset of House Sales in King County, USA: https://www.kaggle.com/harlfoxem/housesalesprediction\n",
    "\n",
    "Quick Download Link: https://drive.google.com/file/d/1HREApvec84pUxXuGSONaRUgDVDxWjoNq/view?usp=sharing\n"
   ]
  },
  {
   "cell_type": "markdown",
   "metadata": {
    "id": "o--8QwahoRNc"
   },
   "source": [
    "* id - Unique ID for each home sold\n",
    "* date - Date of the home sale\n",
    "* price - Price of each home sold\n",
    "* bedrooms - Number of bedrooms\n",
    "* bathrooms - Number of bathrooms, where .5 accounts for a room with a toilet but no shower\n",
    "* sqft_living - Square footage of the apartments interior living space\n",
    "* sqft_lot - Square footage of the land space\n",
    "* floors - Number of floors\n",
    "* waterfront - A dummy variable for whether the apartment was overlooking the waterfront or not\n",
    "* view - An index from 0 to 4 of how good the view of the property was\n",
    "* condition - An index from 1 to 5 on the condition of the apartment,\n",
    "* grade - An index from 1 to 13, where 1-3 falls short of building construction and design, 7 has an average level of construction and design, and 11-13 have a high quality level of construction and design.\n",
    "* sqft_above - The square footage of the interior housing space that is above ground level\n",
    "* sqft_basement - The square footage of the interior housing space that is below ground level\n",
    "* yr_built - The year the house was initially built\n",
    "* yr_renovated - The year of the house’s last renovation\n",
    "* zipcode - What zipcode area the house is in\n",
    "* lat - Lattitude\n",
    "* long - Longitude\n",
    "* sqft_living15 - The square footage of interior housing living space for the nearest 15 neighbors\n",
    "* sqft_lot15 - The square footage of the land lots of the nearest 15 neighbors"
   ]
  },
  {
   "cell_type": "markdown",
   "metadata": {
    "id": "wk7ILICAoRNc"
   },
   "source": [
    "#### Extracting Info"
   ]
  },
  {
   "cell_type": "code",
   "execution_count": null,
   "metadata": {
    "colab": {
     "base_uri": "https://localhost:8080/",
     "height": 215
    },
    "id": "ogcbGaHioRNc",
    "outputId": "4103a6b5-36f1-4034-9251-47ce4ec3b588"
   },
   "outputs": [],
   "source": [
    "df = pd.read_csv('kc_house_data.csv')\n",
    "df.head()"
   ]
  },
  {
   "cell_type": "code",
   "execution_count": null,
   "metadata": {
    "colab": {
     "base_uri": "https://localhost:8080/",
     "height": 304
    },
    "id": "DTJjcJ8hoRNc",
    "outputId": "8b987a2d-439a-4d49-b778-30f54fde0f4a"
   },
   "outputs": [],
   "source": [
    "df.describe()"
   ]
  },
  {
   "cell_type": "code",
   "execution_count": null,
   "metadata": {
    "colab": {
     "base_uri": "https://localhost:8080/"
    },
    "id": "BiBsxKYjoRNd",
    "outputId": "2327c96b-d1ed-4d58-cd57-79b515598c3b"
   },
   "outputs": [],
   "source": [
    "df.info()"
   ]
  },
  {
   "cell_type": "code",
   "execution_count": null,
   "metadata": {
    "colab": {
     "base_uri": "https://localhost:8080/"
    },
    "id": "DO1XMpayoRNd",
    "outputId": "c3ba9cb9-345a-4333-c83f-44397632d002"
   },
   "outputs": [],
   "source": [
    "# Checking for null values\n",
    "df.isnull().sum()"
   ]
  },
  {
   "cell_type": "markdown",
   "metadata": {
    "id": "X9qiD1-8Wn3Z"
   },
   "source": [
    "Checking on discrete varaiables"
   ]
  },
  {
   "cell_type": "code",
   "execution_count": null,
   "metadata": {
    "colab": {
     "base_uri": "https://localhost:8080/"
    },
    "id": "C3pzirpkoRNd",
    "outputId": "877bbabf-548d-4b48-a83f-564b0758fbe9"
   },
   "outputs": [],
   "source": [
    "df['waterfront'].value_counts()"
   ]
  },
  {
   "cell_type": "code",
   "execution_count": null,
   "metadata": {
    "colab": {
     "base_uri": "https://localhost:8080/"
    },
    "id": "mfTj3CiqoRNd",
    "outputId": "29606590-8ed9-4f85-daee-7bfceff5176c"
   },
   "outputs": [],
   "source": [
    "df['view'].value_counts()"
   ]
  },
  {
   "cell_type": "markdown",
   "metadata": {
    "id": "NZ3VhZdroRNe"
   },
   "source": [
    "#### Visualisation and Cleaning\n"
   ]
  },
  {
   "cell_type": "code",
   "execution_count": null,
   "metadata": {
    "id": "ndD5CzdBoRNe"
   },
   "outputs": [],
   "source": [
    "# Plot heatmap\n",
    "sns.set(rc={'figure.figsize':(16,10)}) #read at startup to configure\n",
    "corr_matrix = df.corr().round(2)\n",
    "##Your Code Here##"
   ]
  },
  {
   "cell_type": "code",
   "execution_count": null,
   "metadata": {
    "colab": {
     "base_uri": "https://localhost:8080/",
     "height": 709
    },
    "id": "Mb5GZsj5oRNe",
    "outputId": "a85571f0-570a-4796-d183-1c5ff8bbda42"
   },
   "outputs": [],
   "source": [
    "# Plotting out the relationship between the 2 discrete variables and the price\n",
    "fig, ax= plt.subplots(ncols=2, nrows=1)\n",
    "sns.scatterplot(x=\"view\", y=\"price\",data=df, ax=ax[0])\n",
    "sns.scatterplot(x=\"waterfront\", y=\"price\",data=df, ax=ax[1])\n",
    "plt.tight_layout()"
   ]
  },
  {
   "cell_type": "code",
   "execution_count": null,
   "metadata": {
    "id": "DT6tNB9-oRNe"
   },
   "outputs": [],
   "source": [
    "# Drop all that has magnitude of correlation coefficients less than 0.1\n",
    "df.drop(['id','date','zipcode','condition','long','sqft_lot15','yr_built','sqft_lot','view','waterfront','yr_renovated']\n",
    "        ,axis=1,inplace=True)"
   ]
  },
  {
   "cell_type": "markdown",
   "metadata": {
    "id": "2MJODeFoomKK"
   },
   "source": [
    "<img width=\"600px\" src=\"data:image/png;base64,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\"/>"
   ]
  },
  {
   "cell_type": "code",
   "execution_count": null,
   "metadata": {
    "colab": {
     "base_uri": "https://localhost:8080/",
     "height": 883
    },
    "id": "B-ZXFY2xoRNf",
    "outputId": "61d8bc20-b31c-478b-d583-f5219cbaf0bd"
   },
   "outputs": [],
   "source": [
    "## Adjustments\n",
    "f,ax = plt.subplots(figsize=(15, 15), nrows=5, ncols=2)\n",
    "plt.subplots_adjust(hspace=0.8)\n",
    "\n",
    "## Features\n",
    "sns.boxplot(x='price',data=df,ax=ax[0][0])\n",
    "sns.boxplot(x='bedrooms',data=df,ax=ax[0][1])\n",
    "sns.boxplot(x='bathrooms',data=df,ax=ax[1][0])\n",
    "sns.boxplot(x='sqft_living',data=df,ax=ax[1][1])\n",
    "sns.boxplot(x='floors',data=df,ax=ax[2][0])\n",
    "sns.boxplot(x='grade',data=df,ax=ax[2][1])\n",
    "sns.boxplot(x='sqft_above',data=df,ax=ax[3][0])\n",
    "sns.boxplot(x='sqft_basement',data=df,ax=ax[3][1])\n",
    "sns.boxplot(x='lat',data=df,ax=ax[4][0])\n",
    "sns.boxplot(x='sqft_living15',data=df,ax=ax[4][1]);"
   ]
  },
  {
   "cell_type": "code",
   "execution_count": null,
   "metadata": {
    "colab": {
     "base_uri": "https://localhost:8080/"
    },
    "id": "iM0gXugRoRNf",
    "outputId": "789856e3-32bf-41dc-e1f2-fcabdf0b6c36"
   },
   "outputs": [],
   "source": [
    "columnsList = df.columns\n",
    "columnsList"
   ]
  },
  {
   "cell_type": "code",
   "execution_count": null,
   "metadata": {
    "id": "M6xy8sAYoRNg"
   },
   "outputs": [],
   "source": [
    "# Cleaning Up\n",
    "for column in columnsList:\n",
    "\n",
    "    # Q1 & Q2 definition\n",
    "    Q1 = df[column].quantile(0.25)\n",
    "    Q3 = df[column].quantile(0.75)\n",
    "\n",
    "    IQR = Q3-Q1\n",
    "\n",
    "    lower_limit = Q1 - 1.5*IQR\n",
    "    upper_limit = Q3 + 1.5*IQR\n",
    "\n",
    "    df[column] = np.where(df[column]>upper_limit,upper_limit,df[column])\n",
    "    df[column] = np.where(df[column]<lower_limit,lower_limit,df[column])"
   ]
  },
  {
   "cell_type": "code",
   "execution_count": null,
   "metadata": {
    "colab": {
     "base_uri": "https://localhost:8080/",
     "height": 883
    },
    "id": "Gq2qrLfOoRNg",
    "outputId": "add215e0-0e2f-4683-c455-d92b587c43c5"
   },
   "outputs": [],
   "source": [
    "## Adjustments\n",
    "f,ax = plt.subplots(figsize=(15, 15), nrows=5, ncols=2)\n",
    "plt.subplots_adjust(hspace=0.8)\n",
    "\n",
    "## Features\n",
    "sns.boxplot(x='price',data=df,ax=ax[0][0])\n",
    "sns.boxplot(x='bedrooms',data=df,ax=ax[0][1])\n",
    "sns.boxplot(x='bathrooms',data=df,ax=ax[1][0])\n",
    "sns.boxplot(x='sqft_living',data=df,ax=ax[1][1])\n",
    "sns.boxplot(x='floors',data=df,ax=ax[2][0])\n",
    "sns.boxplot(x='grade',data=df,ax=ax[2][1])\n",
    "sns.boxplot(x='sqft_above',data=df,ax=ax[3][0])\n",
    "sns.boxplot(x='sqft_basement',data=df,ax=ax[3][1])\n",
    "sns.boxplot(x='lat',data=df,ax=ax[4][0])\n",
    "sns.boxplot(x='sqft_living15',data=df,ax=ax[4][1]);"
   ]
  },
  {
   "cell_type": "markdown",
   "metadata": {
    "id": "WaVq8rJaoRNg"
   },
   "source": [
    "### Training A Model"
   ]
  },
  {
   "cell_type": "code",
   "execution_count": null,
   "metadata": {
    "id": "ffi_9IxUoRNg"
   },
   "outputs": [],
   "source": [
    "from sklearn.linear_model import LinearRegression"
   ]
  },
  {
   "cell_type": "code",
   "execution_count": null,
   "metadata": {
    "colab": {
     "base_uri": "https://localhost:8080/",
     "height": 128
    },
    "id": "fzr8cNpHoRNh",
    "outputId": "07c74b6d-ebb3-4ca6-fccc-ac5113a06788"
   },
   "outputs": [],
   "source": [
    "##Set your predictor variables to be all columns other than 'Price'##\n",
    "X = ##Your Code Here##\n",
    "\n",
    "##Set your response variable to be 'Price'##\n",
    "y = ##Your Code Here##"
   ]
  },
  {
   "cell_type": "markdown",
   "metadata": {
    "id": "2N22_ufuXJu-"
   },
   "source": [
    "Documentation for sklearn's train_test_split function: \n",
    "\n",
    "https://scikit-learn.org/stable/modules/generated/sklearn.model_selection.train_test_split.html"
   ]
  },
  {
   "cell_type": "code",
   "execution_count": null,
   "metadata": {
    "id": "K7xlfA8hoRNh"
   },
   "outputs": [],
   "source": [
    "# Perform train test split\n",
    "from sklearn.model_selection import train_test_split\n",
    "##Your Code Here## "
   ]
  },
  {
   "cell_type": "code",
   "execution_count": null,
   "metadata": {
    "id": "6wOI51z6oRNh"
   },
   "outputs": [],
   "source": [
    "# Scale data according to standard normal distribution\n",
    "from sklearn.preprocessing import StandardScaler\n",
    "##Your Code Here##"
   ]
  },
  {
   "cell_type": "code",
   "execution_count": null,
   "metadata": {
    "id": "EH0Fa9n_oRNh"
   },
   "outputs": [],
   "source": [
    "# Instantiate and train linear regression model\n",
    "##Your Code Here##"
   ]
  },
  {
   "cell_type": "markdown",
   "metadata": {
    "id": "PIvZWiQpoRNh"
   },
   "source": [
    "### Model Evaluation"
   ]
  },
  {
   "cell_type": "code",
   "execution_count": null,
   "metadata": {
    "id": "6QuRbmEZoRNh"
   },
   "outputs": [],
   "source": [
    "# Make predictions with new model and assign them to a variable named 'predictions'\n",
    "##Your Code Here##"
   ]
  },
  {
   "cell_type": "code",
   "execution_count": null,
   "metadata": {
    "id": "0jvY_elWoRNi"
   },
   "outputs": [],
   "source": [
    "from sklearn.metrics import r2_score, mean_squared_error, mean_absolute_error"
   ]
  },
  {
   "cell_type": "code",
   "execution_count": null,
   "metadata": {
    "id": "Yi1Z43S7oRNi"
   },
   "outputs": [],
   "source": [
    "print('MAE:', mean_absolute_error(y_test, predictions))\n",
    "print('MSE:', mean_squared_error(y_test, predictions))\n",
    "print('RMSE:', ##Your Code Here##)\n",
    "print('R2_score: ', r2_score(y_test, predictions))"
   ]
  },
  {
   "cell_type": "markdown",
   "metadata": {
    "id": "lvEO1MdIXWz3"
   },
   "source": [
    "===== End of Linear Regression Part =====\n",
    "\n",
    "<br><hr>"
   ]
  },
  {
   "cell_type": "markdown",
   "metadata": {
    "id": "G5bzNBt9o2KE"
   },
   "source": [
    "# Feature Engineering\n",
    "\n",
    "We will add some potentially useful features to the previous dataset.  \n",
    "\n",
    "\n",
    "*Log Transform*\n",
    "- Helps to handle skewed data and after transformation, the distribution becomes more approximate to normal\n",
    "- Decreases the effect of the outliers due to the normalization of magnitude differences and the model become more robust"
   ]
  },
  {
   "cell_type": "code",
   "execution_count": null,
   "metadata": {
    "id": "Wn1BnJe29rqR"
   },
   "outputs": [],
   "source": [
    "## Re-run this code-block if there is any error below\n",
    "\n",
    "df = pd.read_csv('kc_house_data.csv')\n",
    "df.drop(['id','date','zipcode','condition','long','sqft_lot15','yr_built','sqft_lot','view','waterfront','yr_renovated'], axis=1, inplace=True)\n",
    "\n",
    "for column in columnsList:\n",
    "    Q1 = df[column].quantile(0.25)\n",
    "    Q3 = df[column].quantile(0.75)\n",
    "    IQR = Q3-Q1\n",
    "    lower_limit = Q1 - 1.5*IQR\n",
    "    upper_limit = Q3 + 1.5*IQR\n",
    "    df[column] = np.where(df[column]>upper_limit,upper_limit,df[column])\n",
    "    df[column] = np.where(df[column]<lower_limit,lower_limit,df[column])"
   ]
  },
  {
   "cell_type": "code",
   "execution_count": null,
   "metadata": {
    "colab": {
     "base_uri": "https://localhost:8080/",
     "height": 513
    },
    "id": "Dch1a6p5nnwx",
    "outputId": "f771f32e-143e-4284-d7b4-af5327bb610e"
   },
   "outputs": [],
   "source": [
    "plt.figure(figsize=(10, 8))\n",
    "sns.scatterplot(data=df, x='sqft_basement', y='price');"
   ]
  },
  {
   "cell_type": "code",
   "execution_count": null,
   "metadata": {
    "colab": {
     "base_uri": "https://localhost:8080/",
     "height": 513
    },
    "id": "so1tf4IJnnzo",
    "outputId": "4a3cb829-3398-4304-f3d5-249ce90e9df5"
   },
   "outputs": [],
   "source": [
    "df['log_sqft'] = np.log(df['sqft_basement']+1)\n",
    "plt.figure(figsize=(10, 8))\n",
    "sns.scatterplot(data=df, x='log_sqft', y='price');"
   ]
  },
  {
   "cell_type": "markdown",
   "metadata": {
    "id": "Jer2e0tm-ZgU"
   },
   "source": [
    "Observe that the dataframe has a new column ```log_sqft```."
   ]
  },
  {
   "cell_type": "code",
   "execution_count": null,
   "metadata": {
    "colab": {
     "base_uri": "https://localhost:8080/",
     "height": 195
    },
    "id": "Db_MURJ6-ey-",
    "outputId": "3480f153-41bb-408a-e362-212426c7e038"
   },
   "outputs": [],
   "source": [
    "df.head()"
   ]
  },
  {
   "cell_type": "markdown",
   "metadata": {
    "id": "mYhpudfu8Zgu"
   },
   "source": [
    "*Dummy Variable Encoding*\n",
    "- Convert categorical features into multiple binary features\n",
    "- Observe that new columns are added  \n",
    "\n",
    "<img width=\"600px\" src=\"data:image/png;base64,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\"/>"
   ]
  },
  {
   "cell_type": "code",
   "execution_count": null,
   "metadata": {
    "colab": {
     "base_uri": "https://localhost:8080/",
     "height": 215
    },
    "id": "Sr9KyaqOnn1-",
    "outputId": "1bbdbb1b-2d2b-450f-c6fc-93e8f1712941"
   },
   "outputs": [],
   "source": [
    "encoded_columns = pd.get_dummies(df['floors'], prefix='floors')\n",
    "df = df.join(encoded_columns).drop('floors', axis=1)\n",
    "df.head()"
   ]
  },
  {
   "cell_type": "markdown",
   "metadata": {
    "id": "a-aI23L6n_Li"
   },
   "source": [
    "### Train Another Model and Evaluate It"
   ]
  },
  {
   "cell_type": "code",
   "execution_count": null,
   "metadata": {
    "colab": {
     "base_uri": "https://localhost:8080/"
    },
    "id": "X_u13CE-oM0e",
    "outputId": "48a66ab3-85ab-4fa1-ff34-96fc667032b6"
   },
   "outputs": [],
   "source": [
    "from sklearn.model_selection import train_test_split\n",
    "from sklearn.preprocessing import StandardScaler\n",
    "from sklearn.metrics import r2_score, mean_squared_error, mean_absolute_error\n",
    "\n",
    "print('Columns:', ', '.join(col for col in df.columns), '\\n')\n",
    "\n",
    "# Set your predictor variables to be all columns other than 'Price'\n",
    "X = df.drop(['price'], axis=1)\n",
    "\n",
    "# Set your response variable to be 'Price'\n",
    "y = df['price']\n",
    "\n",
    "# Perform train test split\n",
    "X_train, X_test, y_train, y_test = train_test_split(X, y, test_size=0.2, random_state=21) \n",
    "\n",
    "# Scale data according to standard normal distribution\n",
    "scaler = StandardScaler()\n",
    "X_train = scaler.fit_transform(X_train, y_train)\n",
    "X_test = scaler.transform(X_test)\n",
    "\n",
    "# instantiate and train linear regression model\n",
    "LinReg = LinearRegression()\n",
    "LinReg.fit(X_train, y_train)\n",
    "\n",
    "# Make predictions with new model and assign them to a variable named 'predictions'\n",
    "predictions = LinReg.predict(X_test)\n",
    "\n",
    "print('MAE:', mean_absolute_error(y_test, predictions))\n",
    "print('MSE:', mean_squared_error(y_test, predictions))\n",
    "print('RMSE:', np.sqrt(mean_squared_error(y_test, predictions)))\n",
    "print('R2_score: ', r2_score(y_test, predictions))"
   ]
  },
  {
   "cell_type": "markdown",
   "metadata": {
    "id": "nyQIwU_q6K-L"
   },
   "source": [
    "### Important Predictors\n",
    "\n",
    "The code block below will display which features are important and to 'extract' as features.\n",
    "\n",
    "> Replace all instance of ```None``` below with your own code."
   ]
  },
  {
   "cell_type": "code",
   "execution_count": null,
   "metadata": {
    "colab": {
     "base_uri": "https://localhost:8080/"
    },
    "id": "KOVoZXaymj58",
    "outputId": "65ba2dad-399c-43ea-e128-a2225a822cf2"
   },
   "outputs": [],
   "source": [
    "from sklearn.linear_model import Lasso, Ridge\n",
    "\n",
    "model = None (alpha=1e-2, max_iter=1000)  ## Insert code here\n",
    "model.fit(X_train, y_train)\n",
    "\n",
    "print('\\nFeatures with non-zero weight (sorted by absolute magnitude):')\n",
    "for e in sorted (list(zip(list(X.columns), model.coef_)), key = lambda e: -abs(e[1])):\n",
    "    if e[1] != 0: print('• {}, {:.3f}'.format(e[0], e[1]))\n",
    "print()"
   ]
  },
  {
   "cell_type": "markdown",
   "metadata": {
    "id": "jOHvBk4n-dCO"
   },
   "source": [
    "# Polynomial Regression\n",
    "\n",
    "Define a custom function for easy data plotting"
   ]
  },
  {
   "cell_type": "code",
   "execution_count": null,
   "metadata": {
    "id": "s13IbMbNLab9"
   },
   "outputs": [],
   "source": [
    "def plot_data(X, y, title='', X_line=[], y_line=[]):\n",
    "    plt.figure(figsize=(8, 5))\n",
    "    plt.scatter(X, y, marker='o', s=50, alpha=0.8)\n",
    "    if len(y_line) > 0:  # Only plot line when given\n",
    "        plt.plot(X_line, y_line, 'r-')\n",
    "    plt.title(title)\n",
    "    plt.xlabel('Feature value (x)')\n",
    "    plt.ylabel('Target value (y)')\n",
    "    plt.show()"
   ]
  },
  {
   "cell_type": "markdown",
   "metadata": {
    "id": "8PUpFzd_L4ZJ"
   },
   "source": [
    "### 1-variable Polynomial Regression but \\\\(\\text{deg}(p(x))\\geq1\\\\)\n",
    "\n",
    "We first generate the whole set of features using ```PolynomialFeatures```.  \n",
    "Then, we apply the same multi-variable linear regression on these features.\n",
    "\n",
    "> Replace all instance of ```None``` below with your own code.  \n",
    "> *Try changing the polynomial degree number and re-run the code, observe the graph plotted!*"
   ]
  },
  {
   "cell_type": "code",
   "execution_count": null,
   "metadata": {
    "colab": {
     "base_uri": "https://localhost:8080/",
     "height": 372
    },
    "id": "fZzqjWdk-jie",
    "outputId": "982a583e-dc88-44ea-90cc-21e4fed82553"
   },
   "outputs": [],
   "source": [
    "import numpy as np\n",
    "from sklearn.preprocessing import PolynomialFeatures\n",
    "\n",
    "np.random.seed(0)\n",
    "n = 15\n",
    "X_R2 = np.linspace(0, 10, n) + np.random.randn(n)/5\n",
    "y_R2 = np.sin(X_R2) + X_R2/6 + np.random.randn(n)/10\n",
    "\n",
    "train_scores = []\n",
    "test_scores = []\n",
    "end_deg = 11\n",
    "\n",
    "for deg in range(1, end_deg):\n",
    "    \n",
    "    poly = None (degree=deg)  ## Insert code here\n",
    "    X_poly = poly.fit_transform(X_R2.reshape(-1, 1))\n",
    "\n",
    "    X_train, X_test, y_train, y_test = None (X_poly, y_R2, random_state=0)  ## Insert code here\n",
    "\n",
    "    linreg = LinearRegression().fit(None, None)  ## Insert code here\n",
    "    train_scores.append(linreg.score(X_train, y_train))\n",
    "    test_scores.append(linreg.score(X_test, y_test))\n",
    "\n",
    "    ## Try changing this to see different curves of best fit ##\n",
    "    if deg == 7:\n",
    "        x_fit = np.linspace(0, 10, 1000)\n",
    "        y_fit = None.predict(None.fit_transform(x_fit.reshape(-1, 1)))  ## Insert code here\n",
    "        plot_data(X_R2, y_R2, 'Least squares polynomial regression of best deg=7', X_line=x_fit, y_line=y_fit)\n",
    "        print(f'Features: {poly.get_feature_names()}')\n",
    "\n",
    "    # Prematurely break for-loop when test R2 is negative\n",
    "    if (test_scores[-1] < 0 and deg > 2) or (deg == end_deg):  \n",
    "        end_deg = deg\n",
    "        break"
   ]
  },
  {
   "cell_type": "markdown",
   "metadata": {
    "id": "PAul9v1i0iCX"
   },
   "source": [
    "The best fit curve is chosen by observing that the highest R2-score occurs at a polynomial degree of 7, as seen below. However, do be careful of overfitting!"
   ]
  },
  {
   "cell_type": "code",
   "execution_count": null,
   "metadata": {
    "colab": {
     "base_uri": "https://localhost:8080/",
     "height": 355
    },
    "id": "8Zs95DgXLk8I",
    "outputId": "585f2803-01fe-4ead-9212-caafda815d88"
   },
   "outputs": [],
   "source": [
    "plt.figure(figsize=(8, 5))\n",
    "plt.plot(np.arange(1, end_deg+1), train_scores, 'b-')\n",
    "plt.plot(np.arange(1, end_deg+1), test_scores, 'r--')\n",
    "plt.title('Train & test R2 scores')\n",
    "plt.xlabel('Polynomial degree')\n",
    "plt.ylabel('R-squared scores')\n",
    "plt.legend(['Train', 'Test'])\n",
    "plt.show()"
   ]
  },
  {
   "cell_type": "markdown",
   "metadata": {
    "id": "UNQ5-ZXiL12T"
   },
   "source": [
    "### 2-variable Polynomial Regression\n",
    "\n",
    "Model features are generated from the original variables.  \n",
    "Eg. The multiplicative combination of variables $x_0$ and $x_1$ will form the set $\\{1, x_0, x_1, x_0^2, x_0x_1,x_1^2,...\\}$."
   ]
  },
  {
   "cell_type": "code",
   "execution_count": null,
   "metadata": {
    "colab": {
     "base_uri": "https://localhost:8080/"
    },
    "id": "9h6KhPmrL1Rz",
    "outputId": "945a68e6-3af3-471a-d0dc-6c3f4f94d19c"
   },
   "outputs": [],
   "source": [
    "np.random.seed(0)\n",
    "n = 15\n",
    "X1_R3 = np.linspace(0, 10, n) + np.random.randn(n)/5\n",
    "X2_R3 = np.linspace(10, 0, n) + np.random.randn(n)/5\n",
    "X_R3 = np.array([X1_R3, X2_R3])\n",
    "y_R3 = np.sin(X1_R3) + np.sin(X2_R3) + X1_R3/6 + np.random.randn(n)/10\n",
    "\n",
    "for deg in range(1, 5):\n",
    "    poly = PolynomialFeatures(degree=deg)\n",
    "    X_poly = poly.fit_transform(X_R3.reshape(-1, 2))\n",
    "    linreg = LinearRegression().fit(X_poly, y_R3)\n",
    "    print(f'Degree {deg} features: {poly.get_feature_names()}')"
   ]
  },
  {
   "cell_type": "markdown",
   "metadata": {
    "id": "qCG15UW3x1BY"
   },
   "source": [
    "===== End of Polynomial Regression Part =====\n",
    "\n",
    "<br><hr>"
   ]
  },
  {
   "cell_type": "markdown",
   "metadata": {
    "id": "KtiUYoDkoa1-"
   },
   "source": [
    "# Logistic Regression\n",
    "\n",
    "- Linear regression: $y=\\mathbf{w}^T\\mathbf{x}+b$   \n",
    "- Logistic regression: $z=\\mathbf{w}^T\\mathbf{x}+b$  \n",
    "The output $z$ from the linear regression equation is then passed through a sigmoid function i.e. $y=\\sigma(z)$, where $\\sigma(z)=\\frac{1}{1+e^{-z}}$  \n",
    "<img width=\"300px\" src=\"data:image/png;base64,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\"/> \n",
    "<br><br>\n",
    "- A graph of the sigmoid/logistic function is shown below; this function has a non-linear mapping.  \n",
    "<img width=\"350px\" src=\"data:image/png;base64,iVBORw0KGgoAAAANSUhEUgAAAZAAAAEsCAYAAADtt+XCAAAgAElEQVR4AeydCdy+1ZjHLelfIWJaZBuSoTASaiJJIlOTmBaljEaJNmlKCJEmQrQnpU2Wss3UTGFUaA8llUokZai0yjL7PZ/v+b/f+3+953/fz/u87/s8z/ss53w+93POuc51Xec6v7Nc93qeh1QlFAQKAgWBgkBBYA4IPGQOMkWkIFAQKAgUBAoCVXEgZRAUBAoCBYGCwJwQKA5kTrAVoYJAQaAgUBAoDqSMgYJAQaAgUBCYEwLFgcwJtiJUECgIFAQKAsWBlDFQECgIFAQKAnNCoDiQOcFWhAoCBYGCQEGgOJAyBkYegf/7v/+rOP73f/+3bktM18QhTGDn//zP/9SWkaYtBMpi2/77v/870eUflTbWjSuJsUOgOJCx69LJapALroupeVBwIR52RLAd56CDwN7cSehM5PnTn/407M0q9k0AAsWBTEAnT0oTdSK2N89LH6Y4Xjl5tYF9OgqdoG35z//8z9p8y2pCSRQEBoxAcSADBrxU11sEvOLIF9M//vGPva2oz9pwEDoNqiLvVQhOg7xt/K//+q+6rM9mFfUFgY4IFAfSEZ5SOCoI6EiwN56lD7v9OAYcgs7DvHZTZqCNlBNyPnlKXBAYJALFgQwS7VJXXxDwTB3lLKxPfepTq1e+8pV9qatfSrH5ZS97Wa2ednjFgUMkzQH9lFNOqZZddtnq4osvrvlLoiCwEAgUB7IQqJc6e4qAZ+k6kqc85SnVxhtvPBK3eXAIhDXXXDPZrNOwLf/xH/+Ryo0pP+2006qHPexh1Xe/+92e4liUFQRmi0BxILNFrPAPFQIuuN4CwjgcyijdxqINvFVlG3Ae0GybzkTaqaeeWj3kIQ8pDmSoRuJkGlMcyGT2+0i1Oj4jYJHVObiw2hgXWOme3bsww2eZvMbQSROMvY2kvLKxPtK+UuuVEPI5rzq8krCcOrRTGrE06zKPHm5h4UC+973vWVzigsCCIFAcyILAXirtFgEXThd6FuuDDz64etrTnlY96lGPqh73uMdVz3ve86p99923XrS5HbTZZpstdSVy3HHHVc95znPS84NnPvOZ1bHHHludccYZaTG+6KKLkkks8O9///urhz/84dW1115b7bnnntUTn/jElN9kk02qm266Kek9++yzq+c///nJBmz5zGc+k+T/8Ic/pBg7cQSf/exnU50rrrhi9chHPrJ61ateVV166aWJR6dCjI5NN900XYVER4Je2rPccstVz372s6sjjzyy+tznPlc99KEPrb7zne8kPeWnILBQCBQHslDIl3q7RsCHyCzuu+yyS1o8iU866aTqmGOOSc5jvfXWS/pwODyQXn/99esrCQo+/OEPJ0exzjrrVJ/85Cerj370o2nRftGLXlQ7EK8gPvjBDybaS17ykvQw/vjjj09Oa9GiRdXTn/705HRWW221pPOII46oXvjCFyb+yy67LNmgA3jXu96VHM8GG2yQnBV6n/zkJyfeb37zm9Paj5PiuQ2OkjbgVD71qU8l+Re84AUV9eA4n/CEJySHyRWITm+aopIpCAwQgeJABgh2qWr2CHiW7m2rxz72sdVrXvOadHZPmVcoLv7U8KQnPSmd6ZOm/Le//W06+8epeAsJfuhcxXC1wVUBvJSzUD/iEY+o/vqv/zoZjEPgigJHwpUAMv/+7/9e133XXXdVXGFsv/32ld+f3HzzzclR4DyUJ7777rsTL04O+3UYOBauQMzff//9qR6uOrBJ+i9+8YtqpZVWqpZffvnq/PPPnz2gRaIg0EMEigPpIZhFVX8Q8Iwe7c94xjPSWfz111+fKvNsnYx8voXFwouj4HYTZ+yf/vSnaycBPws4t6i4HXTBBRckffzgQHzGwMLNQfj+97+f6G9605sSzTLq4MqGKxECzu6www5Ljuncc8+t7aIMGW63UeeVV15ZOyFuU+FsCLTjq1/9auLhNptyxrvuumuyo1yBJGjKzwIiUBzIAoJfqp4ZAa8wWFRJsyDzLIHXWHEUb33rW6t//dd/TYrgYYHmCoSzeQL5Qw89NC24F154YV2hVyzcGuIKBAei/CGHHFJxu+qnP/1pckAK/fKXv0xXINyaIshPesMNN0yOTV4WefTecsst03TgtHguwnccZ555Zq2HZyAbbbRR7Ww+9KEPJRu4yqAegldc2lyuQES7xAuFQHEgC4V8qXdWCLB4ElhM77vvvuqLX/xitdtuu6XnGDgTF1/O/nlA/vKXv7xeeHn+wYLtgosjwrGgk+cMyF9yySVJP1ct733ve6tlllmmuu222xINXh6O40C4MkGfAUeETdTH1REBGrbB+7Of/SzRqEtH4Gu4//RP/5ScInSerfCA3Vt1H//4x9MVyLe//e1angS26EB8GJ8Yyk9BYAEQKA5kAUAvVXaPAAumCy9SOhLS0HEG73nPe9Ji/c///M9JMc8TeCBNYDH/8pe/nBZj3mhCn1c1lL/97W9PDsRbWJT/4z/+Y9J36623Jv6kqKqSA+HWEw6EuuElkH7FK16Rroi0FccE7znnnKN4Xe8+++yT9F999dW1Dh6i8/U8OnEiOBccEM9drIOYcq660F3ewqqhLYkFQmCoHAgTO05uJosTkkllWVxEwM3bEZ69QYsTXDn0cRCkpczUxDRtLG+UkwaPaeNIy9PqzOOZZGdTnusmbzvBTF3SjKGLF+lIR4dybemZypvsmg0N27Tp3nvvneZE0POlL30pOQGfcXA2/9KXvrSu4p577km3g3hOwUNux9SvfvWr9ECbW018U0EdHNw+YoH2CkR+rkC4WuE1XwK8tJ0DB0K9hp/85CfpKsYrIXjpAx648xCeZx7KI8PtOHQ4tmknD8rXWmutmkbZb37zm2QzzoUv0cWeGH2GmJbWFstrW+CTRto6pFOWl0ce69GmpjJ5ZoqR7SRveSeeWEfk71YmyneTjnU08beVg6k25Tx5Pu+DpnoGQVtwBwIwTlBuTfA65qMf/ejquuuuS+2n3Em1//77pweNO+20U5KJg5hbDwbfxdexoINgJ5g2lt4W27GxHNlYP/mFCE225XaS11bS4q290AzqIy+dOD8oV6ey/Yi1gf5lfKywwgrV61//+vQa7gknnFAddNBB6ZkIr9XiKAiezcd2clXB4o8T4az+Ax/4QHrdd911101n+uwrZV0HHnhgovH8ggAdXTwT4VYYD9nFAww4cBRc+TBWHXf77bdf0sNruDi3j33sY9XKK6+c2sCDffFDd9y/Szs+8YlPJHm+cyHNsxwcDd+y0BYeoqsDmaZ0asAMP9Znm2yzsXqjGnnzGF715fy0E3w45Mvl83zU0ZRuqivyzVSOHfGwfnWYb4vla4tnkhMT5cXFPDFjHz0E9ZlOxAX8WXAH4mQjZmCxCOAgbrzxxnqwgc8NN9xQ7bDDDmkiM5G+8IUvJNiQE9yIIx1haCpvosk/bnHEggFr26Ub0+6Ylm+h8cBmAn39vve9L11d8AEhr9SyoO6xxx7pAz/shZdXX1nQtZ9xReCbEZ5T8HyDKwA+LMSZcAVy+eWXJ37azxUIr/FyhWKATh5enBFBrKiHh/Z//ud/XjtnaJTzwBwnhT6cHx8j+ryFcq+asYvvTghxgcVJYqtXLTz/4ENCrkB6dQtLnFLlUz/SjCFjLwc0D/uGPGUGMY/yls0mbqrTutviqL+NR3rkbUrLZ9zE04mG3ExBHmJwi5hahg4xNZ5J7yDKF9yB0EgBIw1gb37zm6sf/ehH9WBlEDGRTj755IQJrz+yaOh8BNkB3JaHblmMpTfF6ISeD2Tp3epp0t2JJhZtPDOV53LwY3PE2oFoLE/UHdvZlo78eb3zzaMbmzmoP7YB3QTshy4vcbwitUz5xDg11nwewa0lggu6dVoHsTgZo896KBdbypWTRhxppok5rBcb1E+aMvPqsj2WqyPG8MR8W1odxvCZTompn1xfLEOG8twu22zd8uS6LG+KYz0zpXP5aE+bbJNMtLNNrlt6rj+X62SjdigTxwi0TrLK9DtecAcCwILBRMEp8AaLt7Aog8579bwbDz8faW233XZJjrwTjDSDFmDVm5jm8aMeYtOos/MirS09U/VtctKN0dOWnqmOOBjRkevJ83n7cpm8fD62dbLdeuBhbOTtcFGl3HGgLdhsubc1bSe6+BiQqxhuaymTEtmPspDV18bvh4TyWZ+y0G0T9spnlbaRvHw5DzrhawqUWadxE99sadEG+0C848IGzXqRMR3rg4aOqDOWxzQ8HNaZ6yPvEeVMWxZjy7qNo2ye7qQD3pmCGEbc6NuIKfmoi3QbtjPV1+vyBXcgNCifDNyqwkkAImBRzj1kHpYyQfmga/fdd5+GBVcsV111VX3rS50Cb4yQaeNpirKMkzjKkZZujK6Y7mZyWFUcDOjQLvXNVK6ePFYPdAcqabCxHnGCLj/1WbdxLCct3Xg+7UdfW9Am9RN7IGP9YmR7yFtO+rzzzku3tnj2wdUsMc9NeKbxjW98I/Eq4z5WiRh+0C2O1oMt0LBDWhCp7WMswwO/tpImcBWjXmPo6iatbdaBLtuelEz9IKNe0zPF1qWeKG+90eZoY0wrh13QbS907ZUn1gWt7ZAvxpE30klbRn3anvNEvk5l6JptsH7jNnnLtRF7CYw9nr2xDxsfy1LOIc72P3zDEBbcgQgQYAjmW97ylnQLS5Ap++EPf1jxBTCBh5FnnXVWSgMoYK+++urp/jIP4dnq4m/+5m/SfWnSm2++eaKxNQVHpJHmkG5e2qtf/epang365INueosttkg6KKcu6KajvqY0/Oo1DZ86paHTdCxv0ikt6sVeMEEPaXhe/OIXp/vz6OWwDtuMDbGd6kM20rXVNs+m/draFqOL5wuUUw92EnPw2utWW22VXtmFDxp2cWy55ZbprSYeuPN9BV95M0Z4DsEDaBwH26Lw9Tj8vAGFvPWhlzzfl6CLuihjOxSeSSADnshR/trXvjY9d4GmHfDL87rXvS7poMy2kqacV47RQZ6YA722mTS61EFMm7ABPOCjnIM+MG9/WdYUw5vriDSwxy5k4fOgvdDEmrrAiBjM2GiSg+dC7N/1mMc8JmHOsxsO3nKjH4g7HfLnsTJRF/o8YnmbLDydyprKc/6mvHU3yccy0zxXQw8x9kedPBtzXTTmhGMmB5kWxwH8LLgDoY04CgJnaUwe3lThNUw+uHrnO99Z7y9Emoejb3zjG9PZnnK8T+82EOgBXMuM9fCWE1NmOXmCNOnKkY9pO7OJBq/lU2o7RvBaX0yrO9Ji2vI25dEO5AieySB7zTXXJOfrWY02yAO/cpRZX9TbRIvlbbbNhq49uX3UDY0j2qFuaPJA86ytiV/dlkU5ZMmDBWONh+jyQyfEWw7QtFn84IlpdRKri36IspQR1OUVOTTrJa28dPM5D/SmQzlignLwajOxacp///vfV+zLxRw94IADkuPgTTJeUHAxJG5aRDvR4+JpmoWVW404fK4acUp8LMrLErygwIkQOwHgwHB2nDRsu+22aW8yTjr/7u/+rtp5553TRpzcHufuxV577VXtvffeFW92srMA3xLx9h1XprxEwbc+HPQ1L+1wfOQjH0kHG3FycFudDz45eEuO4/DDD0+bdbJhJwe7J3scddRR1dFHH51e5uCFDg7yvMjBwZUxMd8rcceFNwx9HR3sHQdT3TSt36UNOh4KBzKfRjPIeV6iA3ExBGzKJj1EDEi70IEP3ypwODDjAgVuUXaScRQfJjFvA7JwuJiOAi70o/NC50AMPfYxNMtts3nkeXuMRY2rksc//vH1mTILvI4iT+MEcCocvDm39tprpysublPzESeLNW+Wsa0+H12yW8AVV1yRbkXffvvtaQcAz7jFOrdb+ijGEX/S+fzEKdoXsX1RLtIHnR55BwJgPOQEaAOAj9Mgs11ziVkAmPwuIOoAIz6U48gHqPwuHspMYgwG4kDMx4ScUY6KA2EexP7F7tgm3yKzjfSx/Hx3w59XcVbPLSivCIxxCjgOnAYHVwhcEXDGzxn76aefnv63HafLSV78sp+rQWzDnnwxjHMXW6JtluUyozo2aZvzLbaBdjM3uSVo+2ObYzrKDTo9Fg4E0LiXbABwQZc2yXHEIk7YiBMDMi6KUWaSsbPtXp2BC1ujEFxo5RnWGJuxNfZvTGO3/c3JGFcDPAfBOficQqeBoyDNx5rcbub2DS8o8I2MeBCbdqEzpi7T1kmetPk2HOHzaOMZRXpsdz4/83Vt2No3Fg4ED84DPQZX7ADykx7AJi4WDlZiz3wiTbyQoXzSg9iJEZiwkSPBslHBKC6+cW5wFcI/LfJtFbtA4Dh8lqHjwGHwfyd8i+UGkbRbR9GGgfXAB16dxpX2GUed0OgD9cWyUU7PND95WcHgGDQ/DPFYOBAGJ2+lEBhgTuyyAE4fYnEA8hD0jjvuSAdpQ+SRNukx4wtciHlwzMPQUQrMA+zPXyJgrvB2Iw+ceSvN5xjGa6yxRvrvEv5p0XvztDsu4qaJqSMeYgRufHPz61//unY48HvIR6y8eq2viTfKjUOathucn16B0P5YPix4jIUDAXSAjoPOgWiHTGoMJjhUJjFxxAgah6ETrzyTFke8aDtn65///OcTDBG7YcXFkyntoz3cpuJbA15V5grDqw1irkB4c4m9wZRlLokDbXYh8/mJuonhszzSHXuUq1d+dUf+mdJt9cwkN2zl4gGuYqSN0Hj+RMjbS55jocPIOxCB5VIvdkC5+lg8tPJBxuT2spmPMt2d1rPUOCBz2Vg2KWmdBPiQ5szwtNNOS+lRwEcbiel7/sb33e9+d/1NBlceOBG+1eD7Kv5yl3nkIm+MvLrQI51xEMscF/B4xQPtwQcfTNhZjrzYSstj62uiN9WZ841CPm9jPj91ILSFMkMuJ33Q8cg7EAADTG9hkfeB56DBHOb6mKxx0JFm/yeOnD7TxB7mdvbDtojPnXfemd7Rhxbp/ai3VzpxftjKw26+ofC5Bg/EV1lllfQ9An0eb1NRt+PAWFp0Hvmi1nQiAg/jDOelbBt2Oa7IymuZ+V7hMwx6wDi2izSYRQcSy4fBZmwYCwdCQ3iIbhBoY+mTGjMJnbhg4KQHHzGSRjm8MT8TbuiI/OpULuZdzPIJI++wxbYLTGwHO0FHPBfSZuzTLhyAee3Gtt/97nfpIzpvVfGMg919+XCO/ohtgx996uxF26J+0trWyzp6YedC6QCPOJ4iPj4DsV8Wysa2ekfegTjYee3QtB1g3Nb4SaHHwenZJFhxNs3hRLYMXKJMJ5zgU1785ZeurrYzXPmHNdZ+2sMfPfGVsG0bBpuxhbHueOfZhGn2lOP/RLjqcJsMvpnymwzaJq9tQV+v2mefc2vs/vvvT3rF0/omPY54OAfBn7lZHMiARke5AmkGOl8I4mLhMxAlYxm0XFa+mWLk0EWsDmnKUrdl0oY1ZoJzMLk5m/dvBYbBfuyK/eYCBI2/+GXvL644uF31yEc+sradZxKEpjZAa6LPp3/AjUO9jo/56BwHWfGwLbEvmSPFgYhMn2M2eTPknSJ9EmOxaJqwLDYuOGIDv4NYWcuaYnhyvrwu6ohnWTHdpHOYaGKhTeTjn5lJX8hY/HUm2MieSj7r4M+s2DuKbz3ig+28bbZBfebnE8e+jvVF+nz0j7qsWIONadvEvCkORDT6FAM6R7mF1Q5wXMCduMT8vzZHpKGFfO5Y2rUvPotFJj5ApU+8v66sPN7WyCeMfMMWYycTnDNCvmXgOxAxGwZbsUV7iD/4wQ/WzoPnHttss016/TjyYHcT/tCa6PNpJ/Vyy4yv1X1Ogz7tmY/ucZDtND+LA+lzDzvY4y0sz3Qs67MJQ68+nt0wacUl3sKC5oQmLYYzNS7qlhc9Ud7vBSINXhzMsAex0k5sZo8nQt4eeQYZax+Yc7C7LFce3LbimQd5cWahgj+eHJDPj17ab104jji+qEPbe1nfKOqKcwiMxKXcwhpgb5ZbWM1gNy1y86HltbgoQEdv1E36Bz/4QdqSmg/XCCwoLmi5rmHN047YTv7YjBDbupC2Yxu4vve9703Og1tWOA+2Fidou1d+2o790Xn0uw0ujNoU8/2ue1j1N42hSCtXIH3uOQehe2GRtwMs67MJQ68+4iA2XBWwLQdH0xVClOmmgSxSLlCcOX3ta19Lu7KyMyu3UdhZNOp0UetG90Lz2C6w4zbMpz71qWltWUj7xJH/quDKw80O+a8J8La/4SPtFQE2x/5oasNM5U0yOY36qJf+Z3t27ECvduf8k5iPONtfzs/iQAY0Ivp5C8tBT1Ps4K985Svpq91umudkURYZaaSd1NYDH0ccWN3U08ajPspnm27T2S39O9/5TrqdwjboBmwYlWAfEJt2M8VBtME6Y7/l9bJ7rl+U40BwHgRlc/5B5nMbyDvO87JB2jVMdcW+zdPFgQyop/rlQBzkxC70/NfBwQcf3NUEZUA4aYTizDPPTNtgx8GCbp2K9cjfy9g6sYk3cjhIS+9lXegadQcCLjFwZsi/8IEZxyBCrIfbf4wPbwOKL1cfixYtSv+YN0jbum0/48wr3W5lJpHPeUgfgllxIAMaBf1yIHSigYnLRnpbb711msRxYsuTxy5A8Dr5ofFXme973/umsccJ1ksnQt3aYYXo5+MujrwueLtpm7o6xS5wo3oFQttcrMEEvPiQkJBj2gmH+ZRRL7cF8zrZVv3P/uzP6s0Qd9lll9qxDcq2mdrF2OLEiI/ieONPu7wtOJP8JJR3mp/FgQxoBPTLgWC+g54tqflPZiZCvui2NZPB4SEPEwqdG2+8cfobT3Q5oaBT7qKlzFxj6jaQRrc06rTevAwZ+ZSfSzzqDoT+EBv7xt1454LHbGWok4PAOHHcQXvJS16Snntw+2qjjTaqr2DtU+PZ1tkPfsZzr8Z0P+xbKJ1xjjnOpNF/xYEMqGf65UDsTCYuO/7yn9AE6E7sTk2UB34P+NHH33zyRz333HNP0mVd6u+kd7Zl6ibGJhwJO8ty6NAiz2z1t/GPugMBk4gLeJ100knT+rKt7b2is/BGx4Fe/k+cN62WW265dFLDGCI43uTvlQ1z1ePY4st3DvHEPspKWIxAHGNxfhYHMqAR0i8Hgvl06E9+8pM0Wdkhc7YDn8HB2YQDwzMxJhF/C6pTcqFQf6/OIK3XrsAe6mZvIg7SDmB4nPTyzycedQciHsRgxP+En3DCCSkNrv0O9E0e/uVf/iU97/BL8x//+MfJHsaPYyemc/lB5rXngQceSGPNupvaZdmkxZ3mZ3EgAxoN/XIgLvac8dGZLrR5p7c1k4kSJ4v6pJ177rnVyiuvnM7O1EEd1iNtrnFc5NBJ/dKY3E5waJTFeuWba93IjboDER/6y7TfgcwHl9nI0ifUTX+wmSP/3eHHgscdd9y0W0PwyDubOvrN67jSvn7XNyr64xxrmp/FgQyoJ/vlQDR/9dVXTx9mOZmhOynk6RQ7cZCJixEPztnw7utf/3rSR7lHHFyddM9Uhr58UaFenulwxIf30c6Z9HZTPuoOhDaKDzjyHciRRx6Zmt6r/umEY6yD9Jvf/ObkPHAgjHn6FbsIjps83Ul/v8u0jXHGixTm48sp/bZh2PWDSdv8LA5kQL3XyYHQOTGwqdxuu+1Wn8nx+qO3A4h5KMmizh/gEH70ox9VfN176aWXpgkQJzXl5HEKDAT2SeJPelZaaaVqzz33rLh0ZwE65JBDqo9+9KNJn5MIOdKbbbZZ9cY3vrG+MvDqhDJ5EaQdsS2xLClu+dE+iuNtMdJOZHSpu1u9Vhf5xYEyrmi+/e1vp9stP//5zxO7dViujvnE4oUO+ybS5qM7to00mLmVyXz0RlkdVLTfeh0j5DnJYHzy7GPFFVdMzj/qGeY0b5F59W0fGQ+z3YOwjb61v5kfpstWJoNAf6qONgdCZzhQ6Rw+usIZMBEf97jHVY9//OPrfYP+4i/+olprrbWqNddcs+I/E5zYZ511VuLn7JNgB6MP3erfb7/90mK5xhprVM961rOqZzzjGdXaa6+d6uAfE+FTVj3Q9tlnn+o5z3lOKrPcOPKZjos0tJkCix62OoFJE4hjPdCwx/JuFmF1osc0Org1t+OOO1ZPetKTEnbgscMOO6StTdQP33yD9sf61T9f3VFeW4ndjbcbfKKOpnS0Fd2xPTHPs5enPOUpCUv2uTrllFPqfmrSOyw025PbE9udl01S3jEEHk2YlCuQAY2GNgfixKej+IAP57H++utXV111VbKMAf7Zz342ORGuEgh2KmnKP/ShD6XyfDLECU6a/8rmPw+Ql/dzn/tc9aIXvaj6wx/+kHT7w9s86uehLGeV8Giv8uaJ0YUj2nDDDauXv/zlaY8pXgXudPCq5yte8Ypqk002qbbffvtUJ7o4u2FnWZyiAxcHYL3a2U2MviY5HbDtJAYb29Qk0019OY96jLXHfM4/27zjAb3uxovuXuhXD30gLthHOjrkD3zgA8l5MH7ZeXqUAm3kCpRbWLRT3IxHqS39sFUc6HPvEIATt/2KA+kH4g062xwIrCwAvObIrSXOhP1nNDrLzuOq4WUve1k9cV1Ukd9jjz3SX4CSdpJbjrw6pMEHjT8eYgGnbvmQlx8+AvtGcUXkv8RZh3wOKvIuZsips1MsnzqjLh0G8thOTNBG84nY4SfyY1+0Eb3q1gZUwdOt/g5V1/2BLvWTjjZ0kp+pzD5FpwffgZDuVbAO9ImXumkH/yro39Hy2u6NN95Y2yLfsMbg5PjARvOk7a9htX0QdjmOjMVFnIoDGUQvZP+J7sCkE1ww3/Oe96RnGyzWceHEPM6UN9hgg3QbKU5m9fCFL2++oM+Otszmmac+DjbcQ87AGb+y1uEi941vfCNdGbFzLTyWxzT6ozxtsE7raIqR8UqAdDyivLrREdNNOnMaeqIuddCOqCueUcOTy+R6Z5MXD9s3G9lOvLEv1Ji54pUAACAASURBVN1PByJe1GvdXEG6PfsBBxyQzLVPO9k+LGX0s+3CJtO97P9haets7RALY+TFi7g4kNkiOkf+TlcgdA5vUT35yU+utTt4dTCPetSj0te8MMDPAQ8Hr/DywZ/BzqYsLlyUQ2ObEt7UkU9HYXnUA8/555+fzjAvv/zyJE+5iwfpuFioUx3dxMhgAzH20Wb0u0Oq9kFXv/FM+qOd6FEXctRFwP7ceUDvto6kpOUHveiJurCJuqMtLeJdkdWDXm4rxL7tSkEHJm0XK1hJi+t5552Xrk65xfnUpz419Z0yHdQOVRH2cguLK2zbhYGxz4bK4AEbIw7ErkfgxO3l4kAG1BmdHAj7F7FLKW86sRjYSZp28cUXp0nKHkdMXjoyLnh86MdbLwY73ElP3onBfzKcffbZqR7L0cX/U5sn9kD2nHPOSfVff/31tR4XLes0ph7Koo2WNcXweWijfCxK3DrzP7O5TUIamtuCk+50wKeMumKecm67UOZtGNLW3Ul3N2XoUZc70lJ/rwP9BY5gyIsYhBzPudSpDnQT6FvHHs/E/vIv/zLhy7OPL3/5y6ncsaHsXOpdCBnbSN2jZnu/8Ip96fpgXeBVHIho9DlucyB0As8gmIDvfve7ayviAOah5Kqrrpo2ynOQE5v2/6VxPHZ4rShstseDTm5DudggT5ozide//vW1LHriYOG1UBZBrgi0y3JiaCwqfMDGK7/cbuMtMR6kd3NwC4RnMb4qjD70srWED/etJ7arm7R2Rl7bDY20C2LkJS2+UXYuafvEV5LRIY5z0Rdloo3YTB3sxtvLQB2e1NgW8mwbrxNdd9116zbBzxHx7KU9/dDFWAM77LZvjPtR3yjpBBNDnBfMzeJARKbPsf+JTjVOLDuGmFd0d91113oxc/Dyii5nxvy/R5QlrfxFF12UJvLVV1+deJC1zPgTn/hEek7y6le/ujrxxBPT9x8w87YXD+h5zkFwgUCOA128/cUVjmUsuOpNQvP4UQ+Y2Gbt4DsXv3VxkbeqyCutLcZubYfHdhHHviAfy0gTkLU+aS6o5uVLAlN9jG71I28amSinzFxjsUEnePVjN15sj3bTfl7b9erqggsuSObDYzuN59quQcpxF8CxRr327yBtGMa6HKf0pXMAO5kT4FUcyIB6rc2BOCm5/OdWyk9/+tO6o7gVwXcgLAh0WN6Z5nkAjixnhA782Nk8w+ALYc4YuM/L2148U3HLib333juhgKwLRaxv5513Tq8Ww6R++Hq5QKjLNlEXae0hT5ug0V7LU6LDTzzrb3IE6IMeF2FtoO6IY6RTpfqU1Va+ieCNOf7tkMDeUPASog7TqWCOP9E+VfgdiJhKn0ts27TVmKteb8/xd82OC+2Brxf1z8Xm2cjYZ8bIjoLds2ljL3jFxP5HJ+niQHqBbhc64rvxeWfQEUxUnjW8+MUvTreA1ltvvbTosyNu5HeiWqUL0+te97r6rao4eZFlguM81MNtLB7a89DzYx/7WH2byMFhjG7SfHDIg3dCfGCuPm2ZS+wChSx1WTft5D8aOKiHr+25TcJtNHm7rb/JZuuyPnSiD3uiXjCQniqe+tGZKY+c9fA8iduC3/ve99JzgbiokpYv6ptrmvqxjxgbOCtk/6nYhrnqVg577SfwIP/0pz+9vn31wx/+UNZpfVgThzxB2+6444401myn/TrkpvfdPPGgIjARF+dncSB974LFFXR6BgIHCwuHHeaiY8flsYu7dK5W+Ko6yrn4wUNQ91Q2LQTyGyMTA/8TzUNfHqATGEDyRr75ph2cLHwuftjL2TRXT/53uVuOwJ/b2mbDv/3bv1X8uRFB3aSdDNRjGrq4qV8ZnC3PkXhp4f3vf3+KSUNzEY3YMMnUG+nUkZ8IQJtL0DZkSaOXZyCRPhe9ymC3bQAP0ow1n31wckKAzzb1qm5t6GdMe7BdJ4nt2m+7+1n/qOgGC46ID/OmOJAB9WB0IA5MO8VYU+gYOsoOcyFzQXJS+9APOdJcKXArjGAdpOF3UqDbEAdD5IOfg8Df4/JQPOqDrr7E1IOfJn3RVu6x48hwaOKV29RkBu348Ic/nF5FptxFUFnbSV3xdpd0+Ehri/LokgfbSdtPlHGbzTb5b4fyodOyJpvnQ8NOdgQgaN989CkrNtjNMzNe+uANtksuuaTGJrYpYqGOYYzFiNh07KdhtHkhbIp9a/2MteJARKPPcScHYtWcBTmIocVOM920+LgYsnCss846Sy2wyNLZ8lGHaeshH2nQWTS4zcW+UQbt0x7pc43Vk9fNAsy2HF5xsGsuZ73cwmqTabPhwAMPrC688MJUjCx16RCUUSd5ysjTVvmQiYuiZ9vioR7ybNDIx3y0gZcX+IdIA+W2NeqzfC4xerSPuo4++uiUt5656Iwy6LGdjDGvPtiiRtwYuwTzxlHPsKaxFdwYb7azV30zrG3u1i77MR9Lzs/iQLpFcp58bQ4EtXHBIk+nudA4kH2dVX46NB4udNtss0166O5EUB8xQTqy6jaeYqnv0R9xxBHVVlttlcjqR95BJf98Y2zRLnSLB3opY7HmRQDOeOOrxMrMVD97hfE8Al2G2Gb1QOOV6oMPPrh6xzvekd4+Y5sY245sTKvPxRN53oRjIcJedjxmU0EC7RI34l7hqCPDFuvgFpN12d75xF598KorJyi8FcgD9G9961tJLW0BF2wwts3zqXcQstiM/fRdxJC6yZewGAfnCOOKPnZ8FQcyoBESHYjgE9sxmuGCYJ5YWlz0LGeQe6CLzRJ5EM8/FMpvuQud9aODNOXSlGF/I3bg5R8OnVzwq0tZ7ZhrjD5CHkPTFsp4VZlF65Zbbql5u62TW1hcgagv1gdmtB1s2EDyBS94wbTXYHGivHRAEKNYr/2Xl9key8lzyCc96ppL2nrQa9o/lOpFHepkDF522WX11Qc4USam8omTY20ubVoImdx+8vbVQtgzLHWKSx5jH31fHMgsegrAmJQMLAeXwKLGdM4D76abblrXBJ+86jGOeqSpjzJp6jAfzwp4o2TrrbeuN0lUp3Uqax7ZyIM834vw4Fxe61EmCUz9UBbpMa88rC5osT3qgQav9RBztcHzA9I4AO67/+IXv6gXrbwedIlDLOMhN1cE0AzRLvqVBZK9wXjTy0BdfNwYr/7adER9sW50xTJ1E8Mnr3ETP2UGdSmrHmIwBDP+8yXKyIOswXJp9o16lJEfPv7emKtAbmE1PWfRNmTUaxxp1C091uuJEuXStdM410MeXsuNO9li3fKiA9zob0Msg6ZMU5oy+SNf1BXp8JonNm2bY3usT548D72JX3u0QXlj9Vge48gj3RMFYsvLViai0yEGLA4XWe6n81B5p512SosOZXQgl/ksNnx5TXncVwcer0DQY2dYLeV5kGYcB0QcgMjBI5+6uUdpGbGDk7S6kJEODdug8cdUfI+irihDWrp6oBG0YSpb1yN2OT98kRblo23YyMNaFi5uDxHUGdPoetvb3lZtscUWyQFydoQj5CNNtsinD9hunoMv5tlQ0gBebDXCLTteHODPtfjgkts2BmyyXmPLiKP95LFHfGOZtFw28sR0E0axHD3qhJfvgWLd9hd8MW39URdp6yM2zXjGeXAVyL5rXGGoS56oJ6dRpo3UG3nFUppxk305TV7ro5y0dOo0nderrsgDr+3CLmVz/bmuWK58pOX85C23/ea1K8bakeuJ9CgfsY564FHGOMrJa5l5YvnUTVyuQCJCDWkvxRkU1157bXIcdDhfZ/P/HQTAvuaaa6ptt9025Xlj6C1veUtdRsLvQGIHmrazyEuLacqlo4s0IcqR5qBTHcBOgFgW00nJlB7rUy98BvXJQx3WRdxkG7LwKWO90KERrMN8LCPNos5ZKXzf/OY30713H6onBVM/cTGz/ciQ5uAbFl7lJdgW5ZGF1/3GrrzyylSkTZQ5BoxhEFvS8BiQI89B2rz6Ik37kJVPOWiUR93qjXWZlpcTGV7jVU69UR9l8Bty26DnOOGY3SuMZ0QxwBvrs43yaDd06rU+6VE+2iY9103eOtRBPvJRt3zEtkce22+eq8z4HzjSiTsd1KNubbIvjJtsQ04sLLdO8tpv3dqrnPTIG/VQbp7YA3nS2qYe+VPFYY5ar7osJ2Z+FgcSEWlJ+xCRD7R4KArYPCz1ASuLHLd9+FaBRYYPAvlOANAJ8POHSeahmabMQNp8TDtA5TO2Uy1XFnvteHitK0+bV452RF3RBnmJCepXtzqmiuvynI/yXG88A4u3MXj+4hUHDoSv7XkGgk6OJj3Yr03awlXjd7/7XbO1bdpMnfyNMGfXvCZMQAcH+nBa2kU+r7dWHBK2W10WWacxfNHemJYnl1WndYgFMR9eHnPMMYrUMXrVF+uoGVoSjGeuwtiLDXyWX375tCebdcbxoopO+rVZXvEkH+VMazPlpM3HtDao01gdxKbVI48x85edjA0z8Uc7mmRsp3rkl9dyY/koj20jb1mkK0d5bL/1EMsTT3ZyfeRjoK4mHY5/T6LQzVgrDiSi15AWUAA77LDD0p8rATAPmflLVAJ5Fu03velN1bOf/ez06isLn7KUewvLwYBc7Hg7CLqdRFo69TsgKLeT4TFEOWjwICOvMWXqksdFnDw2epCXhpx80R71wWebkNce0spZjgxp88bSiZFHlsAVBLew4n1qZKiT0NYeynAg7tWkTeBqG+EhzUsD1KMt7I/E/8ZzfzzWoU3yRYxtJzykc17yOabIK2c98hAjE+ugXus2TgZOjRf+eVI9OW+sH93qNZaGPGnCscceW+9ozBgnYC/lHNqAbtPwOHbVGXmb0thgQFcM6oJmH5KWjqzylKM/lse0fIlhqu+hqQu68sRiRhzTlHlor/0Y7UEfeXjFB37bQVo5y5EhjQzBeslbV06TFzn1oFd+bSAmwE+5eWTkjVioS/1JeMq+4kBEoyUWXIDlCoSdaQGSTQh33333GnA2I+QhLMBTxuu0dgYdwD14boHxJguem8Aroz6gZWFELzIukgwwz8DZX+mBBx5IPJyZO/i4N41+BgILHfLYoByLILwcnGE5iDiTJyDnWTe81IMd8RkO5baFh9rUx+Ur9hPYPoPLf3RTb7QNXeRtM/+2SB0EeNFD0B7rJuaskMWQZxp8Zc+HhM985jOTM+atLAJ6cd7Y50KPXZw1Yw9t5jVeHsLj9A2mkQVP5Hn2w5YwPHTff//9060v3mqTl3aLFW2mPwjY6VUf5U4++4M2gi11IGM/2ke01b9ThQc6NOqGFxrfKRBjg7zUbR3gTztoN1cg/qslDzrBAVl4kScPnYB+eKGDJeORumOfs2U7zptnIFwJEu69994kS1p70IFeFyXrkBc6OIAVaduPbdSHXYwV8LSO+c4Pb3lim+Mj9gf2gBkYMAaxS6ywB1vhQR4esbId2Bmx6vX88Laa84P6TFPmvAIzsMJ2cMVeAvOY4JoAnTY5BxlXlNkf9D2HuCmHDuvgdj0nZPw/UHEgCd7OPwwkAq9zsrEggQetPKw08Mc6++67b8oycdii3ECnsbfVj3/844p77Aw+AosQiwQBp0HnU1ccIC4cdDgH5ToQOtoB4qQnZsLCS5q6GGgMECYQMYFbNpQzmHQsDEAmCEGnQNrBhH3YiQ1MOtvBwKIdlKNLp+DCAj906sMudBPACWyQi3XYJuRvuOGGxEub4gRBJ0dc3Jk40FiEqIdAvVyB8IxDx4weebGbSahttIs0NhAzgcCbdHSEtB2boNtm2oEcmBKwn4BO2kw5zk2n4IKODhce8HDhpQ22w0WBcnjRRVtdvOhj+gH9hx9+eC3nookc48o2iTG2UAf6qANsCPKyRQuOA+e99tprp3aACbhRJ/rAFf3YQ320H322A6yoBx7GM3UwDrUdHcghz9gBT0Iv5odzib6jDuqifvocG6mDOrGL+QmN4FihLeAKnf7mIA3Nfo5jt9fzA4wJbsUT05RhNwHMaBcYk6ad2Ik9pGkj/QHG8Dl36XP6AnwoV842IWf7mQe0mf35uFLn26riQBL87T90AqAa2LmWL3C33377BPw73/nOFNNx2223XfrXQN6R5yokyvLWTwx2lDG8BjrZvHUTu/jT2QbqJcgvj3nK5CGNbmN1J0J2e0r5aAs05alHHuRZVAjqJB/LnWzyyQs/h7x5OinN7NYGZeCxjcbyoA9niWOUluuEJ+pQr/zEpsFefmP50WH7iJGRR/lon2XSkIdPfcTyWEZMUEbeyOctLG2VJ7dB/VGWtAf17LXXXunZB1cgfOFOQM4xGNtoWWIKYwF91q0cPLYh1iefNlNG2jxy8JinnEDs2I91RPusL9LUp46kLNhOPtZlfdKiLdDIE3o1P7SHGN3q1w7p8kmPsbhIM6/t0s3nOtVN+2K7oRcHIjp9iu0cnoGQ5rATLOtT1SOjFjzEwphBztkVhwPeMmIxHJlGDsBQnBZniSz0LpbdVgumLk7KcIb7mMc8Jl2B8AaWV8vy2h/yj2rM+OJqiLEGhrarjLHFPdppfhYHMqBR766lVOcAHVDVI1ENkzguei5SLGoRL3h0KCPRsAEYGfFhAeQ5HSF3CG2miLt9IPbshMybV1x9cOuWhaRbnW11DRs9tkccaD84lrAEAceGFMdIcSAi0qfYye1bWFTjmY1lfap6ZNSCAwe4MInFhVsR3o6ARplnQ/KMTCP7ZGiOAwsie2F1G5B3PMazb+T5UyycBwcvGBBYSPI6u61rGPlsO+0CO8cgto5TO+eDPTg4TvL5WRzIfJDtQlbw/UdCOwJRB28XasaaBRzAhWDMhOahHgfpWBYxTAUT/uNZNDjywHM2u/EqC6amwZsHzjw8Z/sYXk3Hubh4yDcO49exR3t5+OxJyoQPqWnNFyOI+fwsDmQaVP3LlFtYzdg6IIlNO2CJY9oBLJ9xs+bJoEbcaDGLv/tUgd1MQR5j+FlEecvQq4+PfOQjSQ10ArweiTDCP44hYh0jzdFZjnDTemJ6xMc0fU+auDiQnsA8s5J4C8uOMJ5Zenw5GIQG8GDiOpHjIgUtn9RRVh2TFouV7QZD/otkNgEZD+W46uDVXZwIr4LimOAhGMs7DrFjibaZzrEdh3bOtg1igRzY5POzOJDZIjpLfkDnKLew2oFjojpQwYrALRO+VeDwgaZl8JbJvQRPb/GBCbdi4iaRS7jaU+DpARffO/nwfKONNkqCPh+xn9q1jVaJ7eF7EcYaeefsaLWkf9Z2mp/FgfQP92mayxXINDjqjE5BAnkndZzITmz5iHPZWDZpac4Mxc3/AzE/ExbgqENGD1/h+/Ggz1PEW8xj38ykf5jLbU9uI/Ru8ctlxymf4xNxIV0cyIB6OzoQB2beOQMyZaiqAYM4KDUOGl/McuQ4gZ9y8k9qLDbEOAHwOvnkk9Pi5zjrBhv1oGPllVdOVyBsXsm3ION8+wqMOGgn2JkHMzHpBr9x5QEDjnwsQQOv4kAG1PPFgbQDHScqr+2aZ5sJDgI0X+k1365xckrAhasGMWGLiuOPP35WAIg3iwT/547j4NkH/42C88gXD5UrZ34UY9vAFjBgZ1u9IhvFNvXaZjFCbz4/iwPpNdot+ooDaQaGicoANY5c0OPgpSzylkm+5FVwsSLmA0Cxing2pXEQ4ogsHwxy+woH8uUvf3maCOUxuNhG2qilbYMYYH/ezlFrUy/tdV4aR93gVBxIRKSP6eJA2sFlEjtp44RmWw4OJ7dl8Jpu1zo5JWIHTpxFs2v0bPBBjgMZbl/hPFZYYYV6U0yQpA6PcUOWdoMbh2NNTMetrXNpD/iIh+MKnJibxYHMBdE5yBQH0h1o3o6Bmx1cOQyxTNqkx0xsJzVp9qs66aSTEixO+pkwcoFgy3ucx6JFi6qtt9661oGe/JhJ56iUixG4sWuyQbr5Ei9GIM5B5mZxIAMaGcWBNAPNmQyT1biZawk18nq2uKR08lI6D50ACPg3A5Z1QgUe+Xbbbbf69d2vfOUrjWLgH49GphEiOobEANNjeoSa0hdTnZfGeSXFgeSI9ClfHEg7sHFw+k0DZzr874X/k4G0ZTqRdo2TUxKxADP+3+HII4/sehFEnkC80korpf89529rObu0LEcTukdeNmp52gFucdscacWRLO7NTvOzOJABjfjiQJqBZrK2BRyGTqOJp5NsE/840nIMwGs2W5kgz3H++efXb19tu+22NVSWs5jmddVMI5ywTeDGQlnCdATEZzp1cQ7MigNpQqYPtOJA2kFl4sazPdPQndTS0EJaervWySwBG7cy6TT5IzrI8EdpPP/gOOuss+pXgyPfOKbFKI4vaePY3rm0qdP8LA5kLojOQaY4kGbQnKzEbJehY+B9c29h+f0HZW6pgTZlmzVPBhUM/LdH0uwoyy0s0vGBZyc0wHS11VZLD8/ZwoQHyt3KdtI7KmVgxRYw7vmF3XGcjUo7+mEn2BCIm+ZncSD9QL1BZ3EgDaBMkfIzHJ0Ig9YBLA2RcgWyNJZiFa9AluZamsJtiEsuuaRadtll09XHlltuWV8NxrPypSXHg2IbHWe0Ko618Wjl/FrRaX4WBzI/bLuWLg6kHSomsQtg5PrjH/847VsEyuRz4kf+SU2LCTFXI6eeemqCgvxMAZ53vetd9c67Pj+ZlCsQMWJbDsYbeWnGM2E47uWd5mdxIAPq/eJAZgaaMx0nLQsYf47E4WJGWTk7nI4jmHAVYeDjrmOPPTZlu8Xq6U9/err64At0t45x0VDvOMdgeOedd6ax5olJHIvj3PbZtC1i4vwsDmQ2CM6DtziQdvDyxcpJzMLo4igNLUz4mG/XPP4lYBEDePmf6JHelr755puT81hmmWWq9dZbL7GB7aTgaztZEMUyj9uwmxQ6GIkJbRYzxlpxIAMaBcWBNAPNwHSAOjDhhO6X6PngjTLNWieLKj7EPAD/7Gc/mwCIeLYhcsQRR9S3r/gfERYF+6NNZtzo4HbfffdV999/f704OsbGra2zbY84GCtPvnyJLhoDiIsDmR3IDFAWQw7SJbQjoKMgZlKfeOKJ7cxZyYYbblh/fX7TTTdNK+32Ftg0oRHNgBtjTedZxlznjnR+liuQzjj1rDQ6EAencc8qGUFFYsBilU9e8hwE+DjIu7ApO4LN7qnJYiNObmUiTmJIOWmfKd17773121drrLHGNEftq9M9NXQIlTmmNA18Il7SJzV2jrXNz+JA+jwynNzlL22bgc4nsAOWWylxewmkLSPNJI/5Zu2TQXXBwzH85je/qY466qh6ERQj3uGPmIEv277z4SAPz3kTC3noykwGeovHFd+A3H777TVutH3ScGjqbzBwfEVMnJ/FgTSh1gdauQJpB5VByuLlWY6c0DgMDGR4oJXJLSrTnSnYnHHGGamQNI6DAF4eLgh/+7d/mxwITuS73/1ujaky8i2pafxSji/a6piClo/F8Wt59y0ClyZMoBUH0j2O8+LcfPPNa3kHak0oiaUmLBgxiTkiXjqRAtliBPJFnknttxw5RmBJwEFw+N8fK664Yv1Pc/KgZ1KCbaa90ZFMSvu7aScYxbHm/CwOpBv05sED0BzlFlY7iHFgmuYSmW05OEgTLMvT7ZrHv8SJTEvBid14ebOKtHjBQyAv/0UXXZSuPh760IdWO+644zQnDS98yifhMf2hnRzcwmI7ExZKMZqE9nfTrREH087P4kC6QXAePAxGQryFZSdYNg/1YyMKFuDCma+48CDXh7nQKIPH8rFp/DwbEvEAIzdTFE/UO+Z0xnvttVf917Vf/epXl7ram5QrELFjnHnrDrziVck8u2csxMHJ8RQxKw5kQN1bbmE1A+1gjKW5k3DwRh7STbI5z7jndareYiDvMxAxAqfcEa+55prJgSxatCj9lSu84O7tLWXHHb+4KIKTOOZjcNxxaGtf0xyL2BQH0oZcj+h2AFcgpDnoAIJlPapqZNUwafMzXhY8bilwuPjZQHjLGaJoLBlH4MJbWOzGm+MpN2OP2zXcuuLh+Utf+tI0DiO/C4TjVNlxjm+99dY01mxzmZtLervT/CwOZAlOfU013cJysPa14hFQzgCNE9bFDJp0aTQHWnEgizvWW1IRK74D0QnARVqMSbNXlq/vHnrooQlPcTaO8iMwhOZsou1VAe0WU9IlLL6dF3FyLkIrDmRAIyQ6EDvDeEAmDGU1EYM4YUnzoRtHTrchUVbaJMYRn7iVifhYrtPdZptt6td3r7jiigSZZS4Ok4Kj7WYbEw6DmJmf1NgxRPsjJqSZm8WBDGhkFAcyM9AOVmImNvsTcZCOZTNrmhwOFnwOJjRnznfffXd13HHHTZvsOgV42Lac/z7nCmTVVVetr+QiD+iBt5hPApr33HNPxeEiSTxJ7e+mj8WD2PlZHEg3yPWApziQZhCZqAzGOGEdqDz78PmHNOIo06x1cqk4At/CAquIF2k+GMR5cGy33XYJKPAngCsBPh1KIozxj22mvbY5jsUxbnpXTYtzjXFBMGZuFgfSFYzzZ4oOxEFrR8xf+3hoiHiQ9rZCTh+P1vamFWDjFRrjys0UpVOLDoIF8j3veU/aPJGH6GxlQnA8uoCqrzcWDrcWrtpoL1cf3i4FD7AQt+FuweCsy+ch87M4kAHhz4eEBids7BDLSrx4QQOb3//+9+kgLWYFn+kIxDEERg8++GDazl262JlfZ5110tUH/33O3k8EHQc8HC6cykyvcTxzPDsCu0lq81x7knEGTszP4kDmiuIs5fwSHTEXwzJYF58dexYoHsbQOQjSiFnglJllN4wte8TH3XjBSOfAX93ylTpXHjiP5z3veTWm8MQxqS5pYwva1LYutM9FkTTjSwzGue3dtC3ONTExZnwVB9INij3gKQ6kGUQHI6We+ZJmcOZbmeQ8UbZZ+2RQwYqAI+Cqgq1MDGAkTuyR5fOP973vfYkldxIupDoe9YxzTJt/+ctf8HJT0gAAIABJREFUpu9jHINiOs7t7qZtjh14xYa087M4kG5QnOJhUgEiAy5OvAisZQJvvOWWWyYZ5aWrx5iq8jJlKJMPHvnaYnhjWZ42H+tsSsMX64UnhlgP9JhH1nrEKbYH/ngGTFnOb92UqQOeOMmVMUZvTEd7I5100yF/LFOn8pbl9Nj+vEy9xPDJa9zET5nBOpVt4vcKRF55tt122/oDwksvvbSum3JxjelYR7RBXvSbtg5opmMc0+iSL8q7lQjl0q3XONdDHl7LjfO2RznrhjemdZrqQMYgH/k8TV6ZWKZsrAdazMOvjG2O7bE+efI89CZ+7dEG5Y3VY3mMm3jUx4NzyuUpDiQi15AWLBerAw88sNpggw2qnXbaKW37ALCC+61vfavaZJNNqle+8pUV+wsJMgMzbmVCNZQpJ1+sXpqxvPCQls7gMa3eJj0OTuXlVTbXb7m6YnnbRFNXLiN2UYc8f/zjH02mduU82o1u9ROrsxaeSiAf+SDnOqHJo37alNPgsxwd6oFP3qlqU5TT4Fc+lknLZSNPTFsv/NKNoy5o4BLfwkIGGny8tst/f6ywwgr1221Rp2nrM0av9RFLz2N50GOZNOLcVvgI9mXknSpKkfQmmmXWBw9p6dRpmrKYljfKUo4MtKgn8piOuqShs5fzA32EWFdbOtoQsZ5SkSJ4lDeOcvLmZfCo0zLaWRyIiLXEvkYKWNdee21yHAz4Qw45pDrzzDNTZwAu79fjJEg7IVAp2JShI3YWacrlIS8tpimXjk7S6pbuoFVX7GzrgBbT6pDWFMOjbm1Sj7E2wKttpClXRt2RBxqBWD7rQpbbCvyplPqtT55c1rqJ5bVe60gVBjutVxlieY1jOyy3TBuiXsosl5+YQCwNvRzSoxw025AYpnCCx6BOdXAGD178oRR84MRYJH3llVdWixYtSrewPJlRl3q0Df0RY9OUWxc05WNaHepEF3wcylsmPcpDy+uARlC3usirw7R81ivdNqjLOuRjyxy2M7E8xtbRFCOvbu1DN7zG2hBtI025MuqOPNLURRlBvdCRJ5iOMtZrHfISRx3KWI4+05QZvPogz3rH/CwORHQ6xDyAJPCB1imnnJI66+qrr6722GOPGugLL7yw2n777avNNtus2mqrrdKeRHSSg4tJa2fYgeiUZto8sWl1JCPCj51MbFo9gW1aWeSTx3rMRx2xLMrSNoK0yAfdcmP51B35YzopDYsO8pTLE9PqdJFUVroy0okpk26sjZZHftPykjdtLE+M23QqYwyf9iIf0/KoN+bhi3XIAy3/PxB4P/rRjybn8YhHPKI6/vjjE3usS/k8tk7iyG/asSkf8pblusjnNiOvbJQzbRmypM3HtDbk9amD2LR6Iq9lUY+0Jv5I0x5oUcZ2Sot88FpuLJ+6I79lsc3KwR/tVo5YnvnOjyivTttQHAhIdAh0np1x2GGHVV/72tdS/uabb07/o2DnsgPqC1/4wuSZzzvvvGrPPfestSLva7yk7XDSBu//kveqh7R0Os7Oi2cClue86kXGeowpUxc020gc05R52E4Gk/LqMA+vbYPfdpBWznJkSHMgF3VZF21DTp5U8dRElZ9y+aFFXaQplxc98oobefg4LLM91kcsjzG88lsvfLaTsmgbdROgRx3QkFfOvDzEyMQ60KU+Y3is89RTT011oItydHBrlQfoixYtqn76059SlOjqNYaXtOXE6iZNmeXqjjaYhleM1UlseVNavdZJbFAXeccVaenRrtnMD7EFf04UsSvaSxoe45iW1zLssR+jPdDJw2f70WM7SCtnOTKkkSFYb6wrp8mLnHrQCx9BG4gJ8FNuHhl5xVW+GMOHDEdxIAnK9h/BBViuQE4//fQE/FVXXVXtvvvuSRBAv/GNb1Rve9vbUp6Bsd5666XOQI7OWH/99avrr7+++uEPf1jdcccdScedd96ZHA5C7JDq4CBNQA+vXhLY0oOPxOC566676sH385//PJVjA5fhBJ4rsKUFdROjh4O3mmgPOm655ZbEy6SBB3k/3CMNzSuv+F/RXLZSTh18fEX47W9/m94JRzf2UhfBWwLkaSuBOmgLAV5sRI42m8ZO6sBJ33jjjSlNXdgDluKHDuogQEcfcvBZB7vTUsZEoZy2c4gb7/7zDQDltIN2YYe64I24gj009CNHwB7qpB1gRX0E5NAV+4M+tB+pg4A+cEXeuqGhH15otIOY9smLrH3KLQVsQ+cnPvGJhLN6aeOjH/3o5Dye9KQn1XWgD/30CXodj8jZ5/CQJtBG6sBOv5uArj3o4BaaixJpAh/oUQ90x5X9Qbl1oJexAp7K0S5Cv+YH/Uj/MB6Ym9hA0HbavJDzg28tCM7XmKbMeQVmYAWWjl145zs/qIO55/ig32+44Ybqm9/8ZtrVoDiQ1D2dfxxUP/jBD6qdd945MbOLKW+7WEanASZA84bL3//936fOpEOZkDgUbnuxeZ2dzmR0EYoLqIOFznPhYKBzUB9yTDT0ykueBQsaA4k6qJvBjx4mLOXEhJtuuinxMkEYfPAy0f0a10URXhdbeLATG1iU0E2Al3ZQzoLGhCS4sMAPHdtoAws1gUnqgv2zn/0s0fghjQy20n4C8rQLfGkH5RwuLOhBHzT4tI1+QQ/4UI4N2GmbnCDIgasfk7FoIge/vNSBPtuhI7DN6GXCgimB9hPQSZspZzLqFGgH7UEfvKQ5XLzsc3S4KFAOL7qwGSdLmjroO8pPOumkelxhGyc3vr67yy67JAcHnYAt1IMO6gA7AuNKrFyEwIpxBZ26xIo+oF7soU20H322g76gHnjoT+oAW50U+uxTMNY2MOv3/MAe2kHAXuzGHhZJwkLPDzAn5PMDGmVN8wP87Lv5zg/az7ggMHbpD54F40A4iS4OJEHT/uOAkmPvvfeuNt544/S8g0mw7777pskAH/eWX/KSl6RyJjmdaNh0003rPBPJMjsaeQMT0Xzkoz4Ci6EBXnnQS4g08tItM1Yu1pXToi3wkSdgi3LkPetWnnwsd1GVDxl41Uc65ilnkXKRJm+wDmXERbp5bZduHj3Wm6e1mVj98EgnrT5pxpTZPmLqkNf67ItYJk1b1EesvGXEhChDXj4w40qZAA7Uc8ABB9QOxDe0lEdOWfXktGhH5IUe24G8tqvL2PbHsdtkg3zqoT7S5tEHj3ntIbbfYx3RPuuLNPQRwM0TG/LaQTrWZX3Soi3QlMMWedDhuFCefCxvmx/IGtCtfvVQJo209BiLizTzyGGDdPO5TvXHNiCDQykOxN7pc1z2wmoHmMHo4WCFm7Mdz0DJUyYfcQmLEXDis0ByNn3iiSdOg+a5z31u+vqcqxAXSReRaYwTmmER5TYeZ/Rg6RiMC/yEQpOaHeec2FDA3CwOZEAjoziQZqCdpCx+puGMgzY6C3g8k4z8zdrHn+qZqy1lgvMWlphxW27ZZZdNHxCyfQkB3DyUK/FiXBx3caGcZGycY23zsziQAY2O4kDagXaxI+bMmJgJzP1dDtKxDE3KtGudjBJwcJKLGbdSXQDPOuus5DyWWWaZaq+99kqg6HR0xJOBVHMrHUfccvbZC5wR12bJyaGKEXE+P4sDGdA4KA6kGWgXuljqgI1nydIiX5NsLJ+kNFiAEfepebnDW1Rvf/vb6+cf5557bn31Bl8TppOEGW0FA8aZWJB2XEmbNExie8Ui0sQFrIoDicj0MV0cSDO4LnwOysjFGXLTWTK8HE2DO8pPSjougDgGvkkStzXXXDNdgfABoW9YiR9yJSy5pScuxCUsRmCm+VkcyIBGSnEg7UDHhcyFjzNoXvP0dVqkLSMdZdo1T0aJuIAZt2GOPvro1HDSvr674YYbJocrbmWRXDI2wIJXtRlrMZQTlMVoOGbIxbEGXsWBxBHTx3RxIM3gOkk904HLM0ElYp50lJFnUmOxEDcmOFcgBL5Ix4Hw/OOggw6qv8+JMpOKm+2Oi6PjDJoLpXyTGjtWiMGHIE6kiwMZ0MgoDmRmoBmYPqSDm/f5fac/L5tZ2+RwxAWPhY+/qoX2hje8of772osvvjgBEhfMskguuZLl1p/YGE/OCOqupfkcZG4WB9IddvPmKn8o1QyhZziUxjMbBqe3sKITgccQZaVNYiwOYMPbRMccc0zCcpVVVklXICuuuGL9IZsP1yPWk4hZ3mZw42t4nUccZznvJOUdW7Q5jhnnZ3EgAxoNxYG0A82k5WyYmAHr5I0DljRlkbdd42SViA2tBiOuQK677rp09cHtK3ZBcGE0hlecJwut6a3VoYoLmLA4kpc2XWLycuDQNj+LAxnQeHA3XqpzYJYJvBiLiANpByzbmLiHErQmvgF139BWI14YiPPg62C+ROc/QXj+wX+g8xe3TWMu4jm0DRyQYeDGW2oFk+mAt807HApzsziQ6Xj1LVeegTRDm09Y8wxcdwduWvzQJm+z5smhRnzYGBEHwsTWgVxzzTXJuYhIwU0klpzAgBvjDWw4vNpdwjmZqXysmHd+FgcyoHERHYidYDwgE4a2GnBgQMYYY7m94C2GWCbv0DZogIY5hnQifGXO21c+/1httdXSjrLyYVpMD9DUoaxKLDijxmkUfJbuJjByzhnDxdwsDmRpvPpCKQ6kGdY4IOFgsHIwONkhlYO0dLU4qM1PagwOBPHhTJr/A+Hqgz2wXve619XlkS8Ry09CAMfBlvMcOBKCuE46RDPNz+JABjRCigNpBjpOVNIMWAJxfguraTA3a50sqoserWZH2fe+973JgTzsYQ+rTj755LQYip34RtwnC63m1vIMhPFm8GrE/KTGcZw0zc/iQAY0MqIDcRIbD8iEoa0GHMSCOC6IGg0t8pi2fFJjcHGSu+ixaSIPz7kK4Y+ILCc2XfBbPGLAI2IBho4/sZrUsWW7wUeMiMWH8uJARKmPMQNxs802qyevA9MJ38eqR0I1AzLHgg+7eDefg3QMcZJH+qSnGVf8Q+Hmm2+enMcaa6wx6ZB03X7+uY9/XnShdI52rWCMGTvNz+JA+tzxDsQtttiirslBWhMmONGExXxokwYl44sJLmb81egOO+yQti/hb5VL6IyA8xMu02JqvrOG8S51XMVWRlpxIBGZPqUZiPFDQgdm7Ig+VT30armaiDjEKxH+H5vDEMuQiXl5JjEWP/DgL5Z33HHHdAVy5plnTiIcs2qzY4irXG/NOD9npWhMmcHH8UUTxYs0c7M4kAF0PAOSW1h2hAM0dsYAzBjaKsQFA53EYPPrX/86HeJkGXxRZmgbNiDDxIJxxb8OcrXLM5A777xzQBaMdjWML26Vsntx3BPLcTfarZu/9Y4vNDkHnZ/Fgcwf344adBbclzbEDpE26TGYiJVYMFgdsNLgKfiJxpIP4cAFh7vCCitUW2+9dcX/oJcwMwJxzMV0GWPTsWubn8WBTMep5zkHZdNbWJb1vNIRUsjA9MDsiAl7ErmRYiyTn3jSgxgQf/3rX09XHuzCu88++9QfYU46Rp3a79/78q0RB4Gza7896iQ7CWX5XMvnZ3EgAxgFdMKrX/3q+szZTiiXyIvBFw9yTmIw8z/RSccy0lEmFU7oD9iABccee+yRNlDkZOWcc84pGHU5JsCON7C4hRXnZEx3qWos2eJcy+dncSB97nLBL7ewmoGOCyBYiRfcTOA4iS031rE0a54MqngxsZ/1rGdV/HUtVyB8UBixmww0Zt9K8Is4kS7jagmOM83P4kCWYNXXVLmF1Q6vi2CMGbh8HczhIEZD5GnXOFkl4MMDcz4c5HjrW99a4zRZSMy+tYwnjriZ4uy1jLdEPufIOz+LAxlQ3xcH0gy0g9FYLvJu507aoDMxlj6psbh98YtfTFcfvH31D//wDwmOeGY9qfjM1G7Hlicr5D1mkp2EcseXsW0mX7ZzF40BxMWBtIOcOwPyBG7LxHuuasgHs/RJjXlT7U1velO9fcnRRx89qVDMut06WcaZ447xVcISBDrNz3IFsgSnvqaKA5kZXiazk5cJfccdd6RDJ0KZE35mbZPDAS5sW8Ltq+WXXz79pS2TvmDV/RhgrPHShuNPZ9K9hvHnbJqfxYEMqN+LA2kH2jMcJ69x/BJdGjFHmeCL8QSLG2+8sXr4wx+eDv6+9nOf+1wqLA6kfcxZ4rjidV4Ox5Z0+SY57jQ/iwMZ0MgoDqQd6HhmA5cLH5PYiSyNcmgx3655Mko+/elP1w/QDz744IrnISV0h4AfqnpCwtiS5tjrTtP4cnWan8WBDKjfiwNpBjpOUraR0DGQvu2229JBmkCZafJRtln7ZFDZPJHbVzxAP/vss6tPfvKT5UO4WXQ944itTNiR1/HnbdNZqBlL1jjHmuZncSAD6vbiQNqBzs9wHLScFcYzQzVQ7kSXNqkxC92qq66aHAh/Y8ttPzdRFMdJxaabdnu1EXmbaLF80tKd5mdxIAMaDcWBNAPtIkdsWk4Wx/xMMPLl/MqNU6yjtN3E0alee+216cqDq4/Xvva16QrtjDPOSA52EvCZb1+LJWfXjrWC2xJUxYLYtKXgVRyIaPQ5Lg6kHWAmsQPUsz8Gp38o5cSmTD4nfrvW8ShpaidOBUyIP/WpT6WrDx6if/zjH69+9atfpbewaH0+4ccDkd62AozAkW1MwM7xZ9zb2kZTW6f5WRzIgPq0OJBmoD3DJo6LZVz8YhqeKNOsdbyotF9sxEIMXvWqV6U/j+IZyHXXXZew+fznP5+chzzjhUZvWyNG4ov2mO5tbaOnTXyIIy6Ow+JABtSnxYF0B7RXGXD7JTppBuyknhUycZ3IcRKzU/FKK62UrkBWX331hM8f/vCH6qSTTppYrLobZUu4xNMv0R1r4r2Es6RAIJ+fxYEMaFwUB9IONM7BMxpjJvBdd92VDiezZZG/Xev4lNhuWuSCR3z55Zcn58HVx7bbbpswZE+nz3zmM7XDGR8U+tMSx9Ldd99dcYhvxLw/NY+OVjHCYnFxfhYHMqB+LA6kGWidA7GD04HqwM3pUaZZ63hRY/td4GjhoYcemj4exIFw1QEuPBv5whe+kAAQp/FCo7etEc84/qT1tqbR1OYYivjQEudmcSAD6tfiQLoDmtsyTGAG6G9/+9t0kIYW/1yqO23jwaUDcdLaqpe//OXpCoQ3sH72s58lMmfRJ5xwQkorJ3+Jl0ZAZwFujDcx9sWNpSUmm5LPz+JABjQeigNpBtoJbCwXebcyaSqDL6crO05xkxOAxkRetGhRugJ54hOfmJrMose9fLYycSEcJyz60Rbx5dkR462E6Qg4x4wtJQ9exYGISBcxD5C4lAO8CGjM+6V0LGeQ6kC8FHTgymeMGXmZdVImHzzytcXwxrI8bT7W2ZSGL9YLTwyxHugxj6z10A5CbI9l0OWVZkwZi6P5qD8pDJjJoz7LY5zzkM8P+SNdncpbltNz+yKfeonhk9c410WetjtulDv//PPr7z923XXXaXp4Cyt/4SDqV4d1Eds3Ma19kT+W064oF9tJmmAc09GWKB/njnR4Cca5HvLwWm7cyRZtktdY3VEWGkGZpjRl6oh8iyWnzwdo8MpHbNo2x/ZYnzx5HnoTv/Zog/LG6rE8xp146CPKfZheHEhEriENWBxe0h544IHVBhtsUO200071thqU02Ec3H9eeeWVkyZAhkYHb7HFFonmICFjGvk8SDOOA4K0dHSYRkdMx7x1QVMXvPJLy8vJE2K5i1OkwaOuxRJLZMQu55cPOXVG2u233z5tKxP4aEfOqwwxdWiHcVO9lokLOnMa+ixHh3rgkzfWndPgVz6WSctlI49p67Rt2nnAAQekv6/l+cdpp51Wq7r55puro446KuXFyRhiTCtkXeRJW6cxNHmayiOfOnMacrHd6oPf8SHNWF15XjtjbH3QSCtDnaYjP2kDi+Itt9ySvjsSH3Uom+tH1jLSsTzqsI6cP8rY/qgjyuWysd6YjvIR66gLHmWMo5y8eRltijop5zut4kBErCX2vjsA8tUvjoMOP+SQQ9KWEXY+gHJJt/XWW1cvetGLlpqoXIHQUQ4uqkPGgzzldnBMwyNdPuWlqxdegp2tfmInk2l1RJ48DY+6tUk9xtoAL2kD5cqoN/JAM2+5MjEPD3mxNm9sHdZNrG3qIbbcOo2Vj3VDU0a6fOpUH3mDcsqal5dYGno5tCPXm5fTD2AA3/Of//x0+4rnH7ythk7LvvSlLyWd2q195K3Deq3bWDvtc+imKVMOmnpjGh6PZEQY58oTE7QlykPL67Ae9ZKPafORT/3wQbcN8liHfDGOafg7HfCqW5vQjYyxNsBL2kC5MtYReaSpK8pZpj7y1hPLpFuP+rVNXvmsI+qVxzLXRHiKAxGVDjHbPBOOO+646pRTTkmD4+qrr6722GOPRPfeKbcOmLzrrrtuGjx2KEx88GWgQ+hAAmlD7KiYdoDKZ2wnE5umLOokH8tiWj05f9QRy6Ks9kuLfMhbbiyfuiO/ZcbwuBjadvhjuXojL2mCfLGOqaJUJt046lJWfmN5yZs2lifGbTqVMYYv1hnTkSfq5r8rFi1alB6gr7POOnWRdbqdu/IwoNd8rKMWbkkoQxzlTMf+UYVl5mOsjdKQt44oZ9oy+Embj2ltUKexOohNq0ce9ZH3BAVatDPy5HKxLNahvLTIhw7LjeWjDN7Ib1mkKwd/bL9yxPI4l7Q96pNmTFnUAR2auszLXxyISLTEAgqAhx12WPW1r30tAcytgh133DGl7RCuMugsrkAI0ukQHAh5Olu6Mbze/yWth4906rcTKbeTo5xp+ZAnLa+xdGJo2GEc09A8tNVJFu1RH7wOZvhtB2nlLEeGNDIEnTB5edlagh15CbaJcnmhw6tttjXyUm4+Yi9WyKKTQz2xvlR5mNSRV37r1R5iyqJttrupPuRts3Vbj3ZpO3m2a+fW1cMe9rCKW1m2hTJu+7G9iQE564461K/txtBJE0gTsDm21XL0waN+eEwjF+1Sv+VRzrR6rTNVPvWjLrKOK9LSkVV+NvPDuhlr7MZrO+0PyqEZxzQ0j1wu2oOd5OG1/fDbDtLWZzkypJEhWC9568pp8iKnnjgGtUGc4KfcPDLqFld1ao/lyJVbWKlrOv8ILsBxBXL66aenTr3qqquq3XffvQaf+9Dei/YKxI4H7PXXX7+64YYbqiuvvDL9yx5lvDbI2x8EBq+DgzSBAfbrX/86pflAjC+z4eGWhYPv5z//eSqn811sWWD9KIoYXg72+3EQcc+XwNUVPMjff//96SANzSsvFiUHDoOGcuq45557kg7a8fvf/z7pxl5tu/XWW5O95O+8887ESx20hRB5bTP1aBv6Odsm0GbqxX7aYaAOAgMeffBgt3XwL3OU0QeUgx+HuD344IPpzSXKaQftwgZ1wRtxxQ5o6OeNJwI2Uie2gZWTDzl0xf7w63p0UAeBNLgib93Q0H/vvfcmHnTZH9tss029fYnffFCH4+L444+vnSwLo3rRIYbQCdhDn0CnjxiP1G2fYw9pAvVTB/qwDewI2o4O9IIlPNZBG6gHuuPK/kDeOpBhrNjnyPV7flgHbcNebMEO+oY09IWcH8wrgnMipilzXoEZWGGzYxfeXswP2k+g7xn3rGMXXnhh9YMf/KDcwkrIzPDDgCIA2M4775zSfMQV/7hn//33T29a8Y9wj3nMY6p99903dSbMdOqLX/zi9AzliiuuqCcIC6SLkGc/1OVgYYCwACJPx3FQ7kLBRJeXiccCAY2BxMBCjs5HDxOWcmLCTTfdlHiZIAw+eJlMHKRdFOF1sYWOndjA4uHAgpd2UM7izmJGcGGBHzq20QYWagITFrttB/IEBj10FjYmAzZTBzG6XEyRwx5i6kQf5bRf25RHH+XwUo9tAhv6ATlwpV3wsGhSH2l5qQN90GiHDt02oxfbwZRA+wnopM2UUxdypF3Q0QcvC7CLMHLUAT/BxQ3dT3jCE9IVyKMf/ei0/xXl2kY7cCDUaR2Uo5exQl04OBcWbKEeeGmbC7a80OV1wUIH40Ss6AP0x75BDpsJ9AX1wMN4pg6w1UmhDyyQpx2eIIBZv+cHbaZO7KEdBOzgDgNhoecHmBP8ziemKQNPApiBKxg71+iD+c6PvP1g9eMf/7g699xzK06iyy2sBH/7D53AADfsvffe1cYbb1xtv/32adC94x3vSB0nD/xcgeRhk002qfXIS8yBDIeBAWw+8jLICSyGBnjlYfAQIo28dMuMlYt15bRoC3zkCdiiHHnPupUnH8tdVOVDBl55SHOonzROw8WEvO1Qhhi6uJDWNmJtl27essQ8xWc6162sdPhyWiyzfcTUJ6/tsg2xTJp2qc9YXmIcPw/OuYXlczXqsB5OHI455phpOEY91GF90KOsbctp8llOTICubVOkuj/JaxMxfIQ4drUj1iefNlNG2jw64DEf63AcxDqifdYXaeiDzkLsYgtN/TEd7bQ82gKNPKFX8yMpm/pBt/ptN0XSSEuPsbhIM48cNks3H3VSZrltFkecb3EgU53T78jvQJo6ud91D7N+BicD08FJ3gEa7YYWB3Ic+JFv3NK2k7YzwY8++ujqEY94RHIghx9+eI1VnPy8yAG/eI0bJv1sDzg6/khPemAMdZqfxYH0eYQ4kV/zmtfUk9rF0rjPJgy9eiaqi52Tljy3lDiayuQb+sbN00DabltJb7nllsl5cAVyzTXXJO2OI/i4XcSzOmjiNk8Txl4crLhVCHZiaTz2je+igYwrx1Ici8zN4kC6ALAXLOUKpBlFB6alMc89Xu8BUx7LmvLqGKc4LmQ8c1hxxRXTLSy2b7fMmHZzH5xXzQlO9nHCo9dtATvGFdj6TIc6uAqJuPa63lHR12nOMTeLAxlQT26++eZ1TXmn1AUTmGiapNA4eI7AYT6Hp0k25xn1vGOFtl588cXp6oN/H3zjG9+YHATl8tBW7m/7Hcgk4NOr/uW5ic+veqVzHPRAfQo8AAAgAElEQVQ0jSFoHOBVHEife9kJXm5htQOdP9+AkwHKQ3QOB7ExmHqful3reJToHJisBx10UH37itd3wcPxRWvBhNsKPEQXq/FAoX+tAD+cLi8fMNZ0IgW/JZh3mp/FgSzBqS8pF4B4C8vBaVlfKh4hpeAhJsaYz+0YDoNlkd+ycY3jGOGrc97A4grEV2tju+HlbbdTTz01kku6CwRwHDqPLtgniiXON+cgADA3iwMZ0FAot7A6A83i52IZ45hGQ+TrrHF8SnmWwRkyD86XW2656rnPfW5qXHzGIU4UxL2wxgeF/rTEBTHiB64e/al19LTGeSdWxMWB9LkvBZsrEDuhadD22YyhVS8mGig23Fbg4zoO31u3DN5cTvlxi2kni9lXvvKVevddPlKNQXy41cAHeZ/85CfrK7rIV9LNCIAb44yPJyOWzdyTRc3nmXPQ+VkcyIDGQ7mF1RloBiqDk8WSNIG8A9aFlLzlxp01j3ap7X/zm99cP0D/1re+Nc2BwgNuBDBxhwRpo41Af60XX2NqK7gtjTnjynHmvCNfHMjSWPWFUhxIM6wOTAclXJwRMonjAc2gTJz0lo1bbFtXWWWV9AEht7D8qp+2iot8YMZ+bdLHDY9+tIdxxPOPOAapJ8/3o+5h1+m4iljE+VkcyIB6sDiQzkDnA5XXKn0Ly60pcp7OGsenlP3TeP7BwUaKOk6dhHkWQZ6V8LV6OYvurv8dU2yZwyFu3KKJi2Z32saXS5zExPlZHMiA+rw4kM5AuwhGLhZIF8lIb+KN5eOUpv1s3MmbVzgQvjIn+MaQE9o2g80ZZ5xhtsQzIBAdhmMN2iSNsRkgSsVNeIBXcSDdoNcDnuJAmkFksrIIuhASM1g5/LjLfOQh7eRv1jweVNr5whe+sP73QXeJte1iYmvBjNd4c7rlJV4aAcYXr6R6pStHwXDx8yBwEAti5yN4FQfiaOlzXBxIM8Ce9VHqwCTNLQS28+bwzZhYDk+UbdY++lTazx9HcfXx7Gc/u24QDkQnIg7k+ZDw2GOPrflKYmYEwI+dZbllKpYulDNLjzeHeNDKOP+cn8WBDKj/iwPpDLRnOJGriUZ5Gz3KjkuaB+I4ED4g5N8HcRK2n8nNpM6DfzKV00t+aQR0wmIKh7SluSeXEvERBWjFgYhGn+PiQJoBdmDGsxs4PcOJVyDQI5+yzZrHg7r11lvXzz8uueSSxvbrRFj42FGWP5QCm0nAp1e97FYmYuZVb6/0j6oe8YjzjrY4P4sDGVDPFgfSDrSDFA4Gqnn+/YyDAM2F0nwqGPGftjZBxyE89rGPTbevHvWoR9W3V2KT4REvYp+BRJ6SbkdA/NlZ1mcgXoGIa7v0ZJREHMDLPHOzOJABjYHiQJqBdgIzaZ24cjJQHazSIp+ylo1iHNsc7zdzhnfppZcm58EbWLy+a5Avtl+c0OctrFiubImnIxDxFy+wLFcgi3ESkzjvRBCcigMRjT7HxYE0A8wgdPGDw8WR2K1MIk0tuZz0UYtjO2Kaduy///7139fyai44cIiXk9vFjjL+h/zII49MPPKNGiYLYS/bmDDexHQhbBjGOvMxGecieBUHMqBeKw6kGWgHKBM3pnPuvFzenG8U87TFM+HoINZaa63kQPgL29tvvz01zQVOfuOIB1cgMT+KmAzKZnESV+qFFuNB2TKM9UR8YlpbiwMRiT7HxYE0AxwHZUzn3OPuQDyz4z48OFx//fX11cdf/dVfLXVmrOMwFjtwKw4kHz3teXErDqQZo4hPTMtdHIhI9DkuDqQZYAelpS6kxJNyC4u2gwPOwIXsYx/7WHr+wfcfhx9+eCrzVpU8YiYdzMotLFGZXVxuYTXjNdP8LA6kGbeeU4sDaYbUxZDF07NpOfPBCz3yKSv/KMa00WAaR7D++uunzROXXXbZ6oYbbpAlxTiMHBtlwac8RJ8GV8dMHHNiSOyJTEfhCSh0jsV5Z7PBqTgQ0ehzXBxIO8BOXDgYsOYn4TVe2+yChXPwz6O4+njWs56VgHOhExuITmppxOU13gRX1z8ukHErkyasu1Y4hoyOL5qWz8/iQAbU4cWBtAPNAGXSxoHKQsj2Ehy+n4+GJt52zaNR4iJm+0844YR6+5IPfOAD6ZVSy2iRk1g5N1akjFtYRx11VGp4lBkNJAZvpRixEy+3TM3HMTd4q4arRjBpm5/FgQyor4oDaQbaRZBSBipn4tKIY5oyJzj8ljVrHg2qbdAJEG+xxRbp+QdbmFx22WWpIfIxkU2LFwzIOcn9S9vRQGBhrQTDOKZIi6/xwlq4sLVHDBxv0oiLAxlQ/xQH0g40A5HFz+BAfeCBByqO3HHERVSZUY19AI79tPvee+9N/3vOx4NPfOITa1y8xZXjhJwTmjTyn/nMZ5Iu9JXQGQHxZJzdd999NbN414QJTnSan8WBDGhgFAfSGWgXO2IGLAf3pTnMR57O2kar1MWK+KyzzkpXH3z78fa3vz01JGIiBmBCMG+LH3zwwerkk09eim55iacjAH4cv/vd79LJCg6FvI5lOvfk5hxnxM5H5mZxIAMaE8WBNAPtwLSUwSmN2zLe2nHgykcsX6SNYprFy/a84Q1vqF/f5b/PIx4ubrHdOhKcD2muaD7/+c+PIgwLajO46cgX1JAhqzyONUyL45G5WRzIgDqsOJB2oJucA5P5nnvuSUc+seMgbtc6OiU4BtrIbRQ2TWTr9pVXXrl+ecD2glPESlyInejsXsxDeAJyJXRGAOzAiTfffvOb39SY8RBdTDtrGP/SOOZsLbgxP4sDEZE+x8WBdAcwk9kF809/+lPF4QAexwXRqwrQ8fYVr+96+wp65CEvDpw154sceJ122mlL0btDf3K54ivjk4vCzC3P52dxIDNj1hOO4kCaYcydg3m4SbtA6lSgx0HcrHW0qLSRM7rXv/716eqDK5ALLrggOQ6dhe0WH+nig5MhkOctLOmjhcTgrfXqLeLlWBPjwVs1PDWCCziIhXksJF0cSJ/7yoGJAyGdd0Cfqx8J9Sx+cQHEaO6vupVJfA5CWeQfiQZ2MNK3sO6///5q+eWXT99/PP7xj6/x6CBaF7EIEhhbt912W3XEEUekdM1QEq0IgB2LI7ixYSVjK87RVsEJKojzDWwIzs/iQAY0EDbffPO6JjuhJkxwwjObCEETPk20JtmoZxTStIsJeuaZZ6aH51x97Lnnnsn0btqHvDoQIu13IDqWUcBhGGyMeNMnJSy5XRqxYIwZigMRiT7Fgl1uYTUDzKQVIzjixPU1XiVjGTJxwsszqvGWW25ZO5CLLrooNWMuDoBnIPyPegndIeCY4qG5eDuu4rjsTtv4cc00P4sD6XOfMwg5XvOa16Q4LnwO1D6bMPTqvY2AoU5osOGtmPhmTCxzsg9947owkLev+O5jmWWWqZ7whCekb1+6EEss4OQkB5M77rijOuaYY8o/6nUL4NSY43Yp25lwa8Z56XibhaqxZO00P4sDGVCXl1tYnYF20sKlk+X5AIcLpBoir7RRjWkLH/7x5hXHfvvtV58Jz6ZNYEYAL/69kCAtZcpPIwIsjuJkDGNxHtPhinMOnMgz1ooDmY5T33LxFpYD1bhvlY6IYnAQC9PE8TVe6TQppkekia1m0pYNN9ywYusS9r76/ve/n3jjwtYqPIUFi50TnC/RTznllCRSFsFOyE0v4yqQAxzpE7AjLmH6fHPuETM/iwPp8wgR8HILqx3oOFlZOA18FMdhsAxMx2VxvPnmm9PtK64+1l577Wm3nrptI3gQiO++++7q05/+dFn8HDQzxL7hxzhjLywwdJzNIDoxxZ3mZ3EgAxoG5QqkGWgmrAccnAF6Nh0lIl1+4lEPhxxySLp1xdXHoYcemprjbbtu2uZiFyf5F7/4xXIG3Q14UzxxvJF2XBnPQtXYseZzLc5DGlscyCy6nMnKRI0gxrNEJj5BmgMQ/k033bSuyU6BQFmMSUc58tYZ+aIO+fMY3ZGWp83HOpvS8GlnlIGXEOvJ8/ArIy6xPfBbTloeaJxN8xCdtNiqP5dTh3FeTt6Q85DPj8hrGbRu0hEP+A0u9mJJ/mlPe1r93+f894k81kUsvzR0QpNuHWDkFYhl1k1evqhTmrhTZjrWEfVZjqzpaJvpGMd0tCXKezVAuXTrNc71kIfXcmNss21tsbzoYJzxEL0tqIPyPE1eXbFMXZRFesxDt8w2x/ZYnzx5HnoTv/Zog/LG6rE8xpEn0qMMPGz/UhxIjlCWBygOF7ADDzyw2mCDDaqddtqp3ugPkSuvvDLdy+Z+9g477FAPKEH3CgQ9cZGwPKu2HlR2ZhwQcQAyeORp0mWZgxMedVFmubS8XLtiufZHWlPdloudeXUS+8c92IdeeLCJmPv5cVGBbjsoNx31Kf//7Z15yG1V+cd/f1S3qERpohIsIgkquhFyJXM2r2HYPFi34ZoJKUpqZiWlQVYWJpHZQFEQzXWDCLIrQZqFmjlmqTikBYXhH6b9vX981n0/5z7vcu9zzvuead9zngX7PGs/65nWd017PjEeeHWy3trAd81Dx3JsaAc5ZaPdmmcs8qMt6n3ttdeWxYOnr7Zv395pX7/40pYUHra0/dhjj5Wb8jEu2wtezCsTbZHXnxSeMm3lUU6bNQ89Y0RGe+TtH/Kk2qr3o75l+qOMvHx8mo960bZ9MI5Nbahb269txXIxjrxann3Lrb/7xhapcdR2Ij/qR6yjHWTUkUY9ZS3Tn/vKss/YzAVExDqonYtOcfvtt5eFgwbn0gMvf9lZeJOVRgPUiy66qHzXCJAFnnsgpNiA5pVhX17MUy5fG9DINw5t2YHYd3Mwsd9Wrlyk+NG2MWlH2hYbepSro806fvZJlJOQ1x84R/wpU7bO60cbxqZfqDrKSNU1XmWl8pXTpvbYN8GL5VGHPLZM73//+wdPX/HklP4op+7WQXntuo89sZKHjk9hwTMe8trDTowDGWXNR7vmKVMPHnZIMY+MWylca1vrhr4+rE/Uj7HJ1492tcW+NsxbD6hyUGzJg1oP8pSh78FKEQxx66ONqg81PmwjK22LDXmxsBwd7UCjvxivdilHV9loxzIpZcpCow39WB5jKMbXftCxX8ICt1xAIkIdeZ42IF1xxRXlCRcAv/nmm5szzjij8AGWj7GZOEv5xS9+4W7pCMcee+ygASmwsbBlsiHZj3k7v3JSbUDNq6sMNJbFvDIxhpoXy6IudY62oxx8y6VRN9YNWTqlOg5i9Hingb9ojTYc7MiLC/rRv74irzioJlTLtY+MuspLlWXfvFSZSLWJPeWgbJTxx08HHHBAOQOB8gSQOthpi0M7lkd5ePRTLsPwl7boi4/y6rfZRqYtqQONeub1oRw2LGuzV8eMvrpRz7xl2CLvfswbQ+1PG1Dz2lFWPgeAf//73wc+iNMyfaoTbcQy5Sm3nvKiXCyv5bQd5aMN+eohH+tvOVSZScYHvrGlD2Nhn3dncgGhBYYkAaQxLrnkkmbXrl0FUJ6e2bFjx7pORkMB6qte9apBRwR8Ni9h2QC4tFHIO3GS96g78vFvh6Acm7E85pWDR15ZqXwoPOsIjXnK3Iw7TvZtfqwT8taDvHqW45u8dqXGBEVHH7E88pCxzLpaTuzRRvQn3ujWdcS3NsiTlJGiV/tFznpSZh6daAPbfHLddz9OP/30Yr8Ihfa3Ptgyjwz1EMcYA2XsxzfRo6z1tw5Q7UrlGa82ox9kSdhDPsZinnIx1maUbctrV5/FydqPtti1X5GXj676Gxkf1guqLfLyiZO8NObhuSlvm8d4iJN9ZMUHeetBXj3L0SGPDkm/7Our5imLnnawq7wxiBPylLuPjrJiUZyv/UTf8nMBEYkOKrgAyxkIgxMgb7rppsaBb4Px6Y3DDjusYXGxsTBL+aGHHlougfEf19x8IvE9fXRI999/f7GLH/IkOhg3Vkk8YshRKr4feuihQee79957Szk+OIoicTbEzVRsQbHDxtGpcd13331FlqNWZNDng35s5OF55sVH5uxYLJCU44P4STwCybV3bBMvvkge0bFvnbHvX4dGWTAjUb+777675LkHQl1JyOKDxFmJseGDRIdHhtgo0wc3RyljoFCOfTZxwwd/6EQ59aBe1FVbyEZciQce9v0jKM6U8En9wcrBpx5tLFbgig8OMlhAeP+Ds1naA7/Y8e172xy+POpHG+CLZN56ENu3v/3tQWyewWGDeNBHFz6JPmWb00bEig3bHD3yJGKj/uhTd3ySjAHb2HVS0gdnW/iBb7+yPdDXB3bpK+BJQm/W40Mf+AZj6kA81AlKnRc5PuzzjldwMU+Z4wrMwIqY7bvITjo+aGfbA1/gccstt5SvRTMH5gJSuurwHzoX6cYbb2x27txZ8jxyyeOSdDgGHA133HHHFWARgKceMtu2bWtuu+22crOdDkliwnISYtHABjqxgzhxMJmwUe4Cgg9lGXhMEPDoSDQ29vBFR2PAUg4l3XXXXUWWDkEHQZbBxEYeHmUkJ1v4xEkMTB7WA1nqQTmLFBMkyYkFefjERh2oN4kJhrjhs2hAseHCc+eddzbXX3998Yce9cIWE5r1cOHFJ/YoR87YGEzI4odyfVgnsGFyRw9cqRcy+iCvLD5chIjHBd06G7u4UX9SHOi0J/80yEcTWUA4sCA+Bzo+kGERIhb8kJwU6EtObsRMneBRZ/ToDxdffHFZFNBzEUOGMuqDbf1RB3wQOz6wQ1LWOsGzHtign4gVbYB94sEf9UeP2Ei0BX6QIUZ8UGcXKeyhhz71B0/SPMaHiyZ1+OMf/1hiwDd9j7To8QHmpHvuuafQmKcMPElgBq5g7FijDSYdH/Z52w566623NldeeWXZcgEZNEt7hkagg5vOOuus5uijj25OPvnkMgjOPvvs0sl4+5d/kTvqqKPK01jcYCepe8IJJ2hiwNc2lM3EQHJffaiTJpOhCVllaFxS5LEv3zKpetFXzYuxIMc+iVjUY9+jbvXZj+VOqsqho6y05snXjvvWBz48cbHcfWOX7z5+rEed15e21ZUfY5Qnpcz6QfGhPpQN3mmnnTY4++AzJiT9mdem+vBjzGJgX2BfWW+ia1Nb6qtruXr4IO/GPkk58lEWfqyjskUpyKKjb+NFxjiiP+WMmTLy7qOHjPvGA7Xdo48Yn/4iL/rWplTbcb/mxViQY580zfFRDK7VW/vGIR7KyI9UXOS5b+zy3Y82LdO+41p+LiAiM2PqPRDcxA45Y7e9Ny8W0hgwE0GcDCxTViq/j9SBRmzkORp/0pOeVD5bsv/++5eJhoEb5TZSj6hHHrz4R0L9bcTWKsqKH7i5+MtbRTzqOjvGpLEczHIBiYjMMJ8LSDe4DFgHLUdH7nNJxUtG8DxysrzbYn9KrJcD8HOf+1xZPPj6LmezHvUpZ+T1vvyaIocNEj64JMPXeDONh4A4gxuXYsXSs5XxrCy3FBiJUz0+cwGZU9vnAtIOdNuAtbPGjisPKw5uddst94dLvMTPEVt885zr2rGORiwv1tmymrowRVnuzZEsq3Vyfy8CYiRN3PZiQ84x5piDZ1+D5gKyHq+Z7eUCMhxaOyUd1jw3t316CZ6d2fLhFvtTarw8weeju/z/+bSS9pkEuSHOI8KZxkNA7MCNzf24oIxnabmlxKUen7mAzKndcwEZDnRXB93XFxAmIo7eGHiHHHJIefqKJ7Cuu+66qZ0hiF0uIMP7WFup2OUC0obOXp445QKyF5O55nIBaYfbs4quU2Q7rhQryqrbbrkfXGO86qqrmi1btpQzEL6lxuORMcX6Rf6ovEfKUT8vYY1CbW+5+Ekpifm9kquZs/865kDBvgbNM5A59YtcQLqBpiPaKeubdPv6TXRqzeDjUza+OPiDH/yggGGd2Yl5kWrjWSZFxkHOxJc30UVmPCrGeRO9Gy8wEqd6fOYC0o3bVEtyAWmH06M9aZTipjNbnZSV1uV92ifGP/zhD4PF40UvetGgTg5K4o1598epX9QjD175GO/4PUD8wC0f4308bvZBaZQAs1xAIiIzzMcFxE4rnaHbfdK0R9TgI0by+lYh4yMuL0sx2CKfLxRw9sGfRvHiIOXUJ8pMWi9tQT3DaRv0k/pZNn1xi20GT/6y1Xca9XEsglEuINNAdIgNO2P+pW07SAxcLvGAEx3TzgnlcxpskUceWXT6MkEaPzWMcXG6z7fPnva0p5UF5OCDDx58z2uasXuWBjZ8ouTSSy8tGIFTpuEIgBFtwWdVwM6+JqbDtZe/dNT4zAVkTn0gz0C6ga4nOiZhEnzL5GlFvvuLosbh5Q/jcIGg3b33ER+vpVxddaZBselN9GnYWxUbHphQX9tFuioYdNWzxsGxCD8XkC7Upsw/8cQTBxbrBhkUrGDGiZaqm5fSUe2s8qRRfpGwcZZBim1Knu23v/1tuWzFp0sOPPDA8rE744dGnUnqEO2Al9/C8mh6EtvLrmt70I72NfBM7Pa0vPiwZ14KXrmAzHiE0BnZ8hJWO9BgQ0cUJzsnlK+KskWecuq0W50vl1iYcJx0/HAk73344qCTOvFbn2lF6SKGf55a4w+lMo2PAO3BZ0zAzrYR0/GtLKfkqPGZC8iM250GIMVLWHZSy2YcQu/NO/EaqPtch/ZatLxaxv1FURaPmNz3rXNunG/durVMTLHdZzFB0Z+4lOZTWDGuzA9HgEW/vgw5XGN1SrvGHmMzF5A59YO8hNUOtJMq1MkXSSZDnmpiiwstMlGn3ep8ucTkgkBsTEZ+84oFhP9OIFFm7NOMMNrE93e/+91i3pim6WvZbNnn7GvUj/4mf9nqu9H62LegERPHZy4gG0V0g/JOfpyBkGezUSzboMmlE+cIJ2IiTnz6nM198UK2PipaJCjEQmwOsAsvvLBcuuKTJccff/wgNGOu6zMQ2GQm4uK3sORt0uRKqdGf/O6abWh/XCkgOio7bHzmAtIB2rTZ8RKWg1s6bV/7mr16QXDwgo8YyaNusUMvsq7GRDwuDnxhl7MOFg/+rpa/6vX9EGTa6jNJHWIM2uY9EOOZxPaq6MZ2IS+m4rkqOHTVEzxif4r45ALShdqU+HRCtryJ3g1o7JweAYIZn5dgcyBbhqWo0215OiW2oXFEq8RhLFwyOuaYY8o3r1hAzjvvvHI5S3kHHjTWxfLNUv0TH381+/Wvf32A2WZtroqe9z040+W/4cFQPFcFg1H1jHjYb8GJsZkLyCj0plSeZyDtQNaTspMs0vG6NPuxjP1at93D5Fz84LvLH3w2nrTyqasXvOAFg/8XJwIGofEjGwflpBFii43BzX/T+ze5XfFO6m8Z9cGNTcyGtfcy1r+rTuJhuX2YfcZnLiAiM2OaN9HbAbaDtg1YJkSPeNRG3k6srmWzoPio/RiDlDOPf/3rX81TnvKUhn8afMITntD86le/KrE7uWsn2or5zcYuFuqz76dM8ia6qHTTuJBHLCO/W3v5S+yjYGPeWjM2cwERjRlRQGfLS1jdANMRHbCRMimzRR5W2K8Xlm7r0y2hLeNgYp9Ytm/fXu57cP/j7W9/+2CRi96RJXYoKU5YUW6jeWPiiND3QMRso7ZWUR6s+IzJP//5z/Ior+2SGO7pDcPGZy4gMx4xThbxEpYd1LIZh9B783FCjhNsvIQFVg5oJ8x5V0y/dbtxz8FLV8973vOaRx55ZN3igHzUMS+dpB61Dc46eAeFZD+bxP6y63ogwr2Q2L+od43tsmPRVb9h4zMXkC7UpszPS1jtgLZNcpPw2r1snhsnkTiQyDNZX3vtteVpKz5XwiKye/fuMvEwMSHDFo/gjCTalbdZig8nP2z86Ec/KqbgZxofgdgm8UBmfAvLJ9nWhyIvF5AZt7mdMt8D6QZajJCwc/KW6/33318230a3DLmo02158pIunxyxcqbBzXIuW7F4nHvuucWhOlKjYJ+N2KcZv08SYZvLMJdddtlU7Rv/MlIX+gcffLB8kdeFIy7Iy1jvjdQp9lX7tOMzF5CNIDmBbF7C6gbPiRWJjea7rY5XEgdHm4YDhkkaWfeZePiXQR7XZQHhb2r9BhYyo+y2+doMTz9Q8/k13vGRFDM12HcRqcuUWTU6bEzmAjKn3pALyHhA21kZvEzIbOTlj2dlMin8uWHJI3yPSjn6OvXUUxsvWz3jGc8oN6+R9WzJmCeLZLQ2uMSEfz5lEuOP5ZlvR4B+Ztu1SyQXBByH9C8wywVkTv0iF5BuoNsmW47w/ZQJ+ZjoxOhMOznpRlo/Csv+5z//+cFN86c+9anlT6OcyNWtY552rNGeMeIbzLipTzKmKJv59QjQThwY8FIcT/yJmQcN66VXc49+JS4i4PjMBUREZkxzAWkHmM5pIu/lA3gMYgdyXUZ51NXGZim22uzJ+9///ldi4yU97nds2bKl3Dzny7eemUBdOLrsbTa+Lj0GNr7wTR76/e9/v0s8+R0IsAi7EHeIrCTb/k/l7WfyGJu5gMypW+QCMhxoOyXUifCxxx4rfwHr5BhlhlvbeKm2a034bCwM3/rWt8ri4U1zzkTUi5OPPGltc5r7+NAPFMyIM/Kn6W/ZbNm3Hn300YZN3DwzWbb6brY+sY/F8ZkLyGYR3aBeLiDdgNkhlaCzMoD5NhEbeTswMg565SelThq1HfnEd/nll5czDt/3OP/88wfiMT6uC5vQm0cCDxLxxq/xzsv/POo4Kx9ixxN19DUTbZppDwLDxmcuIHPqJbmAtAMdJzkmQI7k5TG4HeDwKEPGpJz7m6UuFFEf2/o/55xzBl/YZQH52Mc+VkQpVw6GMZLnktc8kvgw4Zn3PZB5+F8WH/ar2J7LUrdJ6gEeprbxmQuI6MyY5gLSDTAd08lYKZ6I8S9t49MxDnAHvPKTUGxFe8bDgvXOd75zcMOcxeOTn/xkcRUHlnnqEOshf5LYxtEVH+LmPZAvf/nLj4txHDurKGO709ceeOCBQT+IZ6mW/I0AABJTSURBVJKriEuss+Mh9mfHZy4gEakZ5nMB6QaXDupAZgI2P+xTJsp0W91TUt+biHoMCPeh+CZB77jjjuZlL3tZWTz4OCL3PbiMZerLJQ7jJy7y3Nj0UybGmnQ0AvQ1+4oTpXS09nJL0K/sZ/X4zAVkTm2fC0g70E7EdEwn8HbJPdwop+4wecqYCGLHd98JgsFB3iP5b3zjG83Tn/70weLBH0P95je/KYNIXQfUKN/zKrcuUL/GOy4+84qxj3662nGcvtjH+kw7JvtQHHfRRy4gEY0Z5nMB6QbXQczk52O7dFgvYTmYKXOiVKfb6p6SKEdeffUij38P9O1yLlexcLz0pS9t7rvvvnU38o1Hqq1FUQc5dfNrvNQr1n1Rse0LfsHp3nvvLZewaFNxk+4LdZhljOLQNj5zAZkl8sF2LiABjJC1c0opoqOyD4151ZSVym+jTAhxoseek4T2+Re/T3ziE+X/PFg4vGS1c+fOsqDhRxvocH0c2odkXMToxnsg42DTh/gXHQM40Zbi5T5x9aWNF4lRxMU4xAuaC4iozJjmAtIO8KgOGjurFtp0LGuj2GCi1ZYyLARf+9rXmoMOOmjdjXI+kMgfQtXXxD07Ut8jf/cXQXMBmRz1ul/Yv+CvehILKXiIFzQXkDn1kFxAuoG2c0KdpJkYeaKIzUmSsijbbXFviYsAHO38+9//bj772c82z3rWs8rHEDnr2LJlS/k3wbPPPru8S6EF/bFYOKGQl6/cIqkLGfXjsh9PYfUpvkViM45vsOISFn8qZR9BLzHcg544QOvxmQvIOD1sCjK5gLSDGCc/J2gl6bB2XnnIOMjVtayNahPZ3/3ud82OHTua/fffv5xx+DFE/or2DW94w+AxTv3iR319siBZXsfW5n9ePOIkHuLkv9lJxjyvGPZ1P7E9E7s9rekYAw/Hgu0MXrmAiMaMaS4g3QDHgetEiDQv4/lCHjKxA0edbstN8/vf/7758Ic/3LzwhS8cvEnuJ9g58+DvZ//85z8XEwwS7Dp5xDwCfXw3IOIAPsTI13gzbQwBPmMCdrHN7Qcbs7R80nUfc5+xmQvIBtqb1diV2MnMTsapnTxXbU0j8/rXv35wTZ1yTwWV2SylMd02YkOdUXQjNqchSzwkMPrPf/7TPPTQQ48zK+bKRnrXXXeV9yDe/e53N3xmnUWCjUUDyg1y+KeffnrDU1e2GVQ75tl3Iwj55mNgUU4+dZCvH/a1E+tBnrJoW92aV8tGOb4qy2PI8vSBDXj6Lo7Wfuyvlkd/6lEm37pIvUyITLTFvnpFeS2GyDevDeSM2TJ45qXy9Bcvb8pD1hjJa1fdyIt9DR1lkSFpJ+Ypc4s2lanLsKG9KGNeG/rWJzrykCGvnTYZytrmF/jq1T61CyXZHtiPPihz/+GHHy7zWpRxEY5yxeCCfv5vQX4HbgVdQC+44ILy50Hvec97SiNRboc977zzBmU0skBj7Pjjjy82I9htjTxwPKeM9RvHHbLGT/3syNqoqfVXL+pEf/DFEFlT5MOjDB4J7PjHwl/+8pfNZz7zmXIJ6vnPf/5gwWCh4DFcP3z4xCc+sTyi+73vfa/573//W2wYn7YLc+0nxhH55i2Xwo/5aJuyel878KOe/FEUHW1K0YFfv0hYl2t7o36jfMxrbxhtk49xbVQ32rPvYEOb9pMop4/IQ54NnlR7Ua4rj82uMvlSZeO+PKixk2+LwVgpJ9V21tjrSLSJfJeOeKFsXlmpPsWJ/de97nXFH/E6R2oj+i5CC/hZ+ALiy2UAdPvttzcsHADFpPXjH/940NB/+9vfmne9610FfG7Q+jKXjb59+/ZBB6GBaJQIMPttm/pdlDZp05MX9eRJ29qTMnWMc5R8mx152EK/TvDBFNqWWCB4p+H6669vrr766oaJ/1Of+lTB+JWvfGVzwAEHlBvfnmF4lsGZBosF+9zbeNOb3tTwCXYe1TXVMRlD5DuA0XFAkVdWTCKN9ms5bWPLetOP2CI+yCkbbcvXB2Xoyscuef6alfrGy22UxTpgA33k5UcZ+frXZ8QE3yT0anl46Ebb7Csf8+hiV562tMs+m+XYIC+ffesK3xiVh7q16crjzI0t+tKG9Yh25KEvFuQjX1vGZLn72EPGFHVrm+ogS15ZcVCefWWRMY8vdbChX+vIvvVTTh1sY0dZ9OHxMAr3DvVhPbBlPPIWRRe+gFBxO+gVV1zRfOc73ylA3nzzzc0ZZ5xR8gDGZQMGLumGG24oZYJ46623Nq95zWvWNYKNtChgR/mls9jJumSViZ0PXuRzbZkvxPJnPXfffXfzpz/9qbnqqquan/70pw3/pfHFL36xfF/qQx/6UPOOd7yjOeaYY8rLe8985jPLIsAZBJuXoOL9C84wONNw8eDtcc70Lr744ua6664rZym2AXWwYxsjlFRTeLF9lFc2ypsvhtZ+orx2olzMi13Ul6cdKLyY2niUs+CCKQc++tFO1Cdv+Si+cjEG61Xrxn39Rj3ycR/5YbZimfb0YRn2LDNWqOV1mfrwjYV+yb0weeogq0wXDz+UKVvnjaMuZ98ydeS5r2/48ORrC0qKfPNRnry+lI9ye6zstRP9WgaFz5hCF7yY10zw4mIS/Skzb7rwBQTABP+SSy5pdu3aVfa5fs4TPSRAo+znP//5oIzJ0LK//OUvzYtf/OLmm9/8Znnv4Ctf+UrD9tWvfrW57LLLmi996UvrtksvvbRx4z8nhm0XXXRRM2zjBTm2j3/842XjS7Jx47PkH/3oR5tzzz233Gw+88wzGybzD37wg+VvW6nH2972tubNb35zc9JJJ5VT1uOOO645+uijmyOPPLI57LDDmm3btjVbt25tDj744IbLSJwdPPnJTx68kOcC4OTvZaV49uAi4ELh5Sd1lGXB2LJlS/FDHMT/k5/8pLnzzjvXdd76iMmDgNIoaz908DiI2vIOgijr4FJem+xHHmdR6hOPgwt98tGOctiyz0W7ysKLsbCPH/zC/+tf/1oeUYYPr15AY3zKYFv/ULGL8SJLirEZkz6iHXjaXFNdh020Ixbw5Jtv0411QM4U8/qWIhPL1ZEyGd5yyy2Pi9Hy6DPmtS9F3nztr95XTopulDGPP/PKGAO65NnMIxvbTll067x2I1+e8tryagz9jXTTTTc1Rx11VPGrjH3BWIrgAn8WvoDYuIDKGQjXlwEb8LgRSx7Q+BtRPqPNR9k4mqHMxOUtJkAmRSdCJljyHmFLmTDjpnwXdaJVHxr15ctrs2MZtC5XX6psLSdfWpe7Tzm2iFs8uOQEDxnofvvtV17ue8lLXtIceuihzUc+8pHmwgsvLIs3EyRnMrbLPffcU2DmiRDOcmgPznq8ZMV7JN7z+Mc//lEGIrrYILGwcCpO+6LD2RJ5bDFgkNUH+9hjsPDHTfx/BLJcaqPdyfMeRvSHD/5mlpiwRZ5yZbFD4tIT9rGNDepBPGzk4VGGDLIkdDmQoZx6EPuVV17ZcBDgf1tQZxI+sYFfYiVm8sTFRp66YZ8EPvCYLODjg//M4KEG6sFNZ5+QIx4nEOzCVwY98CVWeFwmwg62kcU3CbzxhX/yJG7SUo4N6oEPNvLwKLMexIVfbOBPrKy/ssRgXyEG4gEPcONABH34YgyuxAPP9iAPjzLytAGJ2PHHfEB9aQ/8ERs+iAk92oL4aQ908IkMlNioN3bFDXu8o4IOG3l90A4kZPEB30tx2AIfdPAJnxiIDXl80B+JgbrQzsRrnaDYpC8RG/XBJpfyd+/eXea8I444ovhHFj/oS0vBgn8WvoBQf0Ah3XjjjQ2ftyBxn+OHP/xhAYt9jmDe+973lrIvfOELpTOWnbUjRM5AXvva15Yj9ze+8Y3l6YUTTzyxHNVzZM/GI3GTbDzpVW/ajjT6QN79KMO1TbZoT7lIY3lbPtqs9ag/PuDzmLPl3Jgj/5a3vKVQ7IIZ9zOQsxx9yuDjBx3LtAXl7AmKjLZOOOGEge8oqx3khuUpR0+MkGUjPih87nvZ1sSlTWWJgdixQzl85aMseTbKkLGO6IIRPGxBIyboEAOxUGZs5CmTT14eeeKxPZAxr41Yb2LCt3Ejqw6xWD/tYoMNG+qxjyw8NvLy0EcXu/hgIw+Psho39CmDT7tbf+OjjA05eFDsYcu4tAGt8zXPOKFs2taPGEO1pSz1p/3wTxl8qHFRrn4bPuKMDuXRt3awQT76V04s8SumyBk7FLu2h3a4zMyVB65AvPzlLy8LEHOd8ySLDolFZdFp4QuIK6tAnHXWWWUROPnkk8tqz5vLAkaeUzoeIeVIgJU46rOKkzgKmBe4xBA369FGo1zMt8lOi2enw5+JPPhYBpYk+PLch4pr5Bk/PPAmRcz1F2lbPtqMbWkc6kS54mztx/JIYx4x44t6kRfzysiLdbJMnn7k17RLrk0PXtxqW+yLCXnjU6dNXj8R1zY544TGPLLax7f25NWyyMNTznjluV/ru29sbfuxLPrRtuU11aeU8ogd+zFe5eRRbj3Nx7KYj7bgqxfHT7SPjPrKOK/Jl6KnPah5fC4yLXwBGVV5AIxgOdnJE+DIjx2klkOexoCqMyqGfbl8FH7UTbzsxGK6L9d7WrFHLOg3YmW/mpafZbYTJz/yjruI7TLXf1jdxCJiJC5Q+I5L7LAP3344zPY8ynq/gAiCoAqgA5jrva94xSvKjeXbbrutAIvsNddcU67vcxrIzTtSbAj0tamPZabWtcaPbxQ95znPabjWyo17riEjQxLjZcZlVN3sJw5Y3lPi8gKXU7m2nWk4AuDHtX+e+qN/8WAGYxY87WfDLSx/KYsIWHClhYdluEfJXMaY5ak/xiYP0vCwUByTLj6LRKj3C4idzAkQsODRAQGTPDesPvCBD5SbT8ixsXDQUem8XH90AtAeNDbGIhthlr6tbxd+/BfHW9/61hKCmKwCLuNizs1PEpjwuDgLB32Je3T53+jjoUgf414EiX7IxAfNfrb3oBYsOCDhBvz73ve+sliA0atf/eoyj/FAAPdbwE7cHNvjtcJspHq/gDjxU31XXCdDKWcWvIAYzzR8fhodjhiVBXSBtyFmA20/rI7Cj6dhPAPh/8jFJp6t9aMmi4vCRYTHwnlPiURf43HsTMMRYNzRx5773OeWccgj7SQxHa69GqWMOXBiI8+DRDylx4LCg0HOXZyFkPo0Nnu/gAAYoNrhmPSZFAUdCu+0004rj/6S55E9jqqRA3wWEEB3wYAfJ9Zl76bD8ANXjnpIHPnw6ZJVwmZU24MdCUx4F+lnP/tZ6VMMcL6MkGk4Aow5JkI2xuKpp546OHNzPA63sPylLgjgAUYsIDxO/8ADD5QnxuCz8QAR49UFxb65SIR6v4AIEs9Ic1mKv0TlmqCUy1cAymDmQ3/I81w1YJM4A/FsRFs0ho22SPDn4ds6d+HHYqvMr3/964bvjZHstPOIsc8+xIYFhD/H4u1++huPnMd3kfpch0XHFg9I+COxT3/604NJcNGxLdo/fQl8xIh9DuR4F4R7IsxjyngGYp9cdOz47/0C0jWRCSLlAMyb3XfccUfBlH2uHfpyE8+qwzO5eEjlLyMdhR/3iUhgwdv0vu0f8VpGXDZSJwc3L7eecsoppS/xrba8BzIaRfoRL8eR6ItcwvJl4exj6x/NBiMw4WoKn2sisYDwkiIPtzCPmbrGteXzor1fQAACsDiTAFwWDqidD8rNpWc/+9nlUpX/1eBTWFy+4okGbJg4nV6lNAw/zjoOOeSQcnbHp2OQZcKMGK8SVnVdwcEFhLJzzjmnYMV7Sh7E1Dq5vxcB+hPfZuPposMPP7wcXVsax6S8VaXMb/QnHvjhfhFXW/g0Ex865WsRHBBzVuK47At2+8QCsqqdKuudCCQCiUCfEcgFpM+tk7ElAolAItBjBHIB6XHjZGiJQCKQCPQZgVxA+tw6GVsikAgkAj1GIBeQHjdOhpYIJAKJQJ8RyAWkz62TsSUCiUAi0GMEcgHpceNkaIlAIpAI9BmBXED63DoZWyKQCCQCPUYgF5AeN06GlggkAolAnxHIBaTPrZOxJQKJQCLQYwRyAelx42RoiUAikAj0GYFcQPrcOhlbIpAIJAI9RiAXkB43ToaWCCQCiUCfEcgFpM+tk7ElAolAItBjBHIB6XHjZGiJQCKQCPQZgVxA+tw6GVsikAgkAj1GIBeQHjdOhpYIJAKJQJ8RyAWkz62TsSUCiUAi0GMEcgHpceNkaIlAIpAI9BmBXED63DoZWyKQCCQCPUbg/wEtl7nYu1wMtwAAAABJRU5ErkJggg==\"/>"
   ]
  },
  {
   "cell_type": "markdown",
   "metadata": {
    "id": "pwSXTNmGjkXv"
   },
   "source": [
    "## Implementation in Python"
   ]
  },
  {
   "cell_type": "markdown",
   "metadata": {
    "id": "oEe5OqmgXBke"
   },
   "source": [
    "### Sigmoid Function\n",
    "\n",
    "We will try to implement the sigmoid function using ```np.exp```. You may refer to the formula above.\n",
    "\n",
    "```python\n",
    "Expected output:\n",
    "array([0.26894142, 0.31479902, 0.36457644, 0.41742979, 0.47225076,\n",
    "       0.52774924, 0.58257021, 0.63542356, 0.68520098, 0.73105858])\n",
    "```\n",
    "  \n",
    "> Replace all instance of ```None``` below with your own code."
   ]
  },
  {
   "cell_type": "code",
   "execution_count": null,
   "metadata": {
    "colab": {
     "base_uri": "https://localhost:8080/"
    },
    "id": "jag4xRYgVp83",
    "outputId": "6cb0f72c-6b86-4425-ba13-454f8a5511d3"
   },
   "outputs": [],
   "source": [
    "def sigmoid(z):\n",
    "    return None  ## Insert code here\n",
    "\n",
    "sigmoid(np.linspace(-1, 1, 10))"
   ]
  },
  {
   "cell_type": "markdown",
   "metadata": {
    "id": "d8_0UexbV9Wf"
   },
   "source": [
    "You can try plotting the sigmoid curve that we have been talking about too!\n",
    "\n",
    "> Replace all instance of ```None``` below with your own code."
   ]
  },
  {
   "cell_type": "code",
   "execution_count": null,
   "metadata": {
    "colab": {
     "base_uri": "https://localhost:8080/",
     "height": 284
    },
    "id": "4FFUsYvlXdFD",
    "outputId": "c54561f9-edbf-476b-a23b-b6e09c8e5f6a"
   },
   "outputs": [],
   "source": [
    "x = np.linspace(-10, 10, 100)\n",
    "y = sigmoid(None)  ## Insert code here\n",
    "\n",
    "plt.figure(figsize=(6, 4))\n",
    "plt.plot(x, y)\n",
    "plt.plot(np.linspace(-10, 10, 100), np.ones(100)*0.5)\n",
    "plt.plot(np.zeros(100), np.linspace(0, 1, 100))\n",
    "plt.legend(['Sigmoid curve', 'Decision boundary'])\n",
    "plt.title('Sigmoid Function');"
   ]
  },
  {
   "cell_type": "markdown",
   "metadata": {
    "id": "8nxsdVPUaIva"
   },
   "source": [
    "### Hypothesis and Loss Function\n",
    "\n",
    "The hypothesis is $h_\\theta(x)=\\sigma(\\sum_{i=1}^m\\theta_ix_i)=\\sigma(\\mathbf{\\theta}^T\\mathbf{x})$. [Note: $\\mathbf{\\theta}$ is a vector of weights]\n",
    "\n",
    "\n",
    "*How did this happen? $z=\\mathbf{w}^T\\mathbf{x}+b=\\mathbf{\\theta}^T\\mathbf{x}$*\n",
    "\n",
    "<br>\n",
    "\n",
    "The loss function mentioned in the slides is listed below:\n",
    "\\\\[J(\\theta)=-\\frac{1}{m}\\sum_{i=1}^m\\bigg(y^{(i)}\\log{(h_\\theta(x^{(i)}))}+(1-y^{(i)})\\log{(1-h_\\theta(x^{(i)}))}\\bigg)\\\\]\n",
    "\n",
    "<br>\n",
    "\n",
    "We will observe how incorrect predictions will cause a large loss. Again, we use the power of vectorization to speed up our calculations.  \n",
    "We will also concatenate a vector of 1's to serve as our bias term.\n",
    "\n",
    "> There are some revisions to the code block below.  \n",
    "> Replace all instance of ```None``` below with your own code."
   ]
  },
  {
   "cell_type": "code",
   "execution_count": null,
   "metadata": {
    "colab": {
     "base_uri": "https://localhost:8080/"
    },
    "id": "sL-OcpkZaDyD",
    "outputId": "644769a4-44fb-490c-a6ff-d74e826d4f42"
   },
   "outputs": [],
   "source": [
    "x = np.array([[1, 2, 3, 4, 5],       ## Modify this line of code\n",
    "              [-5, 0, 3, -10, -1]])  ## Modify this line of code\n",
    "y = np.array([[1, 0, 0, 1, 0]])\n",
    "\n",
    "x = None  ## New line of code\n",
    "\n",
    "# Initialise the weights with random values\n",
    "np.random.seed(0)\n",
    "theta = np.random.randn(None, 1)  ## Modify this line of code\n",
    "\n",
    "def print_loss(iter=0, verbose=True):\n",
    "\n",
    "    hypothesis = None  ## Insert code here\n",
    "    loss_contribution = -(None * np.log(None) + None)\n",
    "    \n",
    "    if verbose:\n",
    "        print('\\033[36mh(x)\\ty   Loss (Individual Contribution)\\033[0m')\n",
    "        for i in range(5):\n",
    "            print(f'{hypothesis[0][i].round(3)}\\t{y[0][i]}   {loss_contribution[0][i].round(3)}')\n",
    "        print('')\n",
    "\n",
    "    print(f'\\033[94mLoss (Iteration #{iter})\\033[0m = {None.round(3)}')  ## Insert code here\n",
    "\n",
    "print_loss()"
   ]
  },
  {
   "cell_type": "markdown",
   "metadata": {
    "id": "H7ykFTsanCM6"
   },
   "source": [
    "### Gradient Descent\n",
    "\n",
    "Now, we update the weights using the gradient descent algorithm. The formula is given below:\n",
    "\n",
    "\\\\[\\theta_j\\leftarrow\\theta_j-\\alpha\\frac{1}{m}\\sum_{i=1}^m\\bigg(h_\\theta(x^{(i)})-y^{(i)}\\bigg)x^{(i)}_j\\\\]\n",
    "\n",
    "> *Try re-running the code block above and changing the learning rate (alpha) yourself!*"
   ]
  },
  {
   "cell_type": "code",
   "execution_count": null,
   "metadata": {
    "colab": {
     "base_uri": "https://localhost:8080/"
    },
    "id": "veaCvXJ1qIWZ",
    "outputId": "c9854308-6b63-4799-8e03-9f479bbec648"
   },
   "outputs": [],
   "source": [
    "alpha = 0.05\n",
    "\n",
    "theta = theta - alpha * np.expand_dims((np.mean(sigmoid(x)-y, axis=0) @ x.T), -1)\n",
    "print('Iteration #1:')\n",
    "print_loss(1)\n",
    "print('\\n---------------------------------')\n",
    "\n",
    "for i in range(2, 11):\n",
    "    theta = theta - alpha * np.expand_dims((np.mean(sigmoid(x)-y, axis=0) @ x.T), -1)  ## Modify this line of code\n",
    "    print_loss(i, verbose=False)"
   ]
  },
  {
   "cell_type": "markdown",
   "metadata": {
    "id": "PUkvarPTdm4N"
   },
   "source": [
    "As you can see, the  loss decreases with each iteration. When it converges to a minima, the weights can then be used to classify from new input data.\n",
    "\n",
    "Let's have a look at the current weights."
   ]
  },
  {
   "cell_type": "code",
   "execution_count": null,
   "metadata": {},
   "outputs": [],
   "source": [
    "theta"
   ]
  },
  {
   "cell_type": "markdown",
   "metadata": {},
   "source": [
    "We can fix the prediction class at 0 to help visualise the decision boundary with $0=\\theta_0+\\theta_1x_0+\\theta_2x_1$.  \n",
    "This can be rearranged to:\n",
    "\\\\[x_1=\\frac{-\\theta_0-\\theta_1x_0}{\\theta_2}\\\\]\n",
    "\n",
    "Let's visualise this decision boundary!"
   ]
  },
  {
   "cell_type": "code",
   "execution_count": null,
   "metadata": {},
   "outputs": [],
   "source": [
    "from matplotlib.colors import ListedColormap\n",
    "\n",
    "predictors = x[[1,2], :]\n",
    "classes = y\n",
    "weights = np.squeeze(theta)\n",
    "\n",
    "plt.figure(figsize=(5, 4))\n",
    "plt.scatter(predictors[0,:], predictors[1,:], marker='o', c=classes, cmap=ListedColormap(['Red', 'Green']))\n",
    "plt.xlabel('$x_0$')\n",
    "plt.ylabel('$x_1$')\n",
    "\n",
    "x0 = np.linspace(-2, 6, 100)\n",
    "plt.plot(x0, (0-weights[0]-weights[1]*x0)/weights[2])\n",
    "plt.legend(['Decision boundary', 'Data points']);"
   ]
  },
  {
   "cell_type": "markdown",
   "metadata": {},
   "source": [
    "Note: The same decision boundary appears when we use a prediction class of 1.  \n",
    "\n",
    "All these math might seem a bit daunting. Fortunately, logistic regression is already implemented in ```scikit-learn```. Hence, we will use this for convenience in future examples."
   ]
  },
  {
   "cell_type": "markdown",
   "metadata": {
    "id": "8XKOu_2vF7Jd"
   },
   "source": [
    "## Binary Classification\n",
    "\n",
    "This data science problem is to predict whether a customer purchases an item. Firstly, import the dataset.  \n",
    "We will be utilising ```sklearn.linear_model.LogisticRegression```. You can read more about this classifier from the documentation [here](https://scikit-learn.org/stable/modules/generated/sklearn.linear_model.LogisticRegression.html)."
   ]
  },
  {
   "cell_type": "code",
   "execution_count": null,
   "metadata": {
    "colab": {
     "base_uri": "https://localhost:8080/",
     "height": 204
    },
    "id": "H3zw_0mrXags",
    "outputId": "31ce7159-8547-49a9-c52d-e63dc58c7827"
   },
   "outputs": [],
   "source": [
    "import pandas as pd\n",
    "import numpy as np\n",
    "import matplotlib.pyplot as plt\n",
    "import seaborn as sns\n",
    "%matplotlib inline\n",
    "\n",
    "from sklearn.model_selection import train_test_split\n",
    "from sklearn.preprocessing import StandardScaler\n",
    "from sklearn.linear_model import LogisticRegression\n",
    "\n",
    "# Explore data\n",
    "df_log1 = pd.read_csv('purchase.csv')\n",
    "df_log1.head()"
   ]
  },
  {
   "cell_type": "markdown",
   "metadata": {
    "id": "KU_WAN3kH2w2"
   },
   "source": [
    "### Exploratory Data Analysis (EDA)\n",
    "There is only a little class imbalance.\n"
   ]
  },
  {
   "cell_type": "code",
   "execution_count": null,
   "metadata": {
    "colab": {
     "base_uri": "https://localhost:8080/",
     "height": 339
    },
    "id": "AUiAQ84G2_8-",
    "outputId": "61b11b33-4582-43f7-aaa9-63739951a435"
   },
   "outputs": [],
   "source": [
    "plt.figure(figsize=(4, 3))\n",
    "sns.countplot(x='Purchased', data=df_log1, palette='Blues_d');"
   ]
  },
  {
   "cell_type": "markdown",
   "metadata": {
    "id": "YzDimkm-IB3c"
   },
   "source": [
    "### Model Fitting and Predictions\n",
    "\n",
    "Extract the $x$ and $y$ data, then perform train-test split. After that, apply standardization to the training data before fitting the logistic regression classifier. (Click [here](https://www.analyticsvidhya.com/blog/2020/04/feature-scaling-machine-learning-normalization-standardization/) for a detailed explanation of why standardization is used)\n",
    "\n",
    "*Reflection Question:* Why is male/female not converted to 0/1 to be used in predictions?\n",
    "\n",
    "> Replace all instance of ```None``` below with your own code."
   ]
  },
  {
   "cell_type": "code",
   "execution_count": null,
   "metadata": {
    "colab": {
     "base_uri": "https://localhost:8080/"
    },
    "id": "quENQDNe3CEF",
    "outputId": "551bff51-4b98-4f44-a144-9e40cd626a6f"
   },
   "outputs": [],
   "source": [
    "# Extract x and y data\n",
    "x = df_log1.iloc[:,[2,3]].values\n",
    "y = df_log1.iloc[:, 4].values\n",
    "\n",
    "# Train-test split\n",
    "x_train, x_test, y_train, y_test = train_test_split(x, y, test_size=0.2, random_state=0)\n",
    "\n",
    "# Feature Scaling\n",
    "sc = StandardScaler()\n",
    "x_train = sc.fit_transform(None)  ## Insert code here\n",
    "x_test = sc.transform(None)  ## Insert code here\n",
    "\n",
    "# Fitting logistic regression to the training set\n",
    "Classifier = None (random_state=0)  ## Insert code here\n",
    "Classifier.fit(None, None)  ## Insert code here\n",
    "\n",
    "# Predicting the results\n",
    "print(\"Train accuracy score : \", Classifier.score(x_train, y_train))\n",
    "print(\"Test accuracy score  : \", Classifier.score(x_test, y_test))"
   ]
  },
  {
   "cell_type": "markdown",
   "metadata": {
    "id": "GHKBxHzs7ZQp"
   },
   "source": [
    "We can see below that the model actually predicts the probabilities that the set of inputs is a 0 or 1.  \n",
    "Comparison is then done to determine the actual prediction.  \n",
    "\n",
    "*The code below demonstrates the last 10 prediction values by the model.*"
   ]
  },
  {
   "cell_type": "code",
   "execution_count": null,
   "metadata": {
    "colab": {
     "base_uri": "https://localhost:8080/"
    },
    "id": "Vl5YrVAh6l9i",
    "outputId": "e3693123-46ea-42f9-eb56-d3ad6d033f44"
   },
   "outputs": [],
   "source": [
    "probs = Classifier.predict_proba(x_test)\n",
    "print('\\033[36mIndex\\tP(0)\\tP(1)\\tPred\\033[0m')\n",
    "for i in range(len(probs)-10, len(probs)):\n",
    "    print(f'{i}\\t{probs[i,0].round(3)}\\t{probs[i,1].round(3)}\\t{int(probs[i,1].round(0))}')"
   ]
  },
  {
   "cell_type": "markdown",
   "metadata": {
    "id": "d4ZpYf4mhyXP"
   },
   "source": [
    "The predictions can also be obtained directly by calling the ```predict()``` method.  \n",
    "You can compare the last 10 values below with the results above."
   ]
  },
  {
   "cell_type": "code",
   "execution_count": null,
   "metadata": {
    "colab": {
     "base_uri": "https://localhost:8080/"
    },
    "id": "MAULusoihvdt",
    "outputId": "c43c9f92-234b-47a5-f8b1-93f0f89631ec"
   },
   "outputs": [],
   "source": [
    "Classifier.predict(x_test)"
   ]
  },
  {
   "cell_type": "markdown",
   "metadata": {
    "id": "1lniCa2DiMWl"
   },
   "source": [
    "The two plots below show the decision boundary and the actual labels of the data points for **both train and test set**.  \n",
    "From the plots, it can be seen that the 2D space is divided into two regions - 0 and 1."
   ]
  },
  {
   "cell_type": "code",
   "execution_count": null,
   "metadata": {
    "colab": {
     "base_uri": "https://localhost:8080/",
     "height": 355
    },
    "id": "UWYOkWLg3ZMw",
    "outputId": "90eda050-1c8f-40c5-dac2-b229e4e0b811"
   },
   "outputs": [],
   "source": [
    "fig, ax = plt.subplots(nrows=1, ncols=2, figsize=(16, 5))\n",
    "cmap = ['red', 'green']\n",
    "\n",
    "def plot_log_reg(X_set, y_set, axes):\n",
    "\n",
    "    X1, X2 = np.meshgrid(np.arange(start = X_set[:, 0].min() - 1, stop = X_set[:, 0].max() + 1, step = 0.01),\n",
    "                         np.arange(start = X_set[:, 1].min() - 1, stop = X_set[:, 0].max() + 1, step = 0.01))\n",
    "\n",
    "    ax[axes].contourf(X1, X2, Classifier.predict(np.array([X1.ravel(), X2.ravel()]).T).reshape(X1.shape), alpha = 0.75)\n",
    "\n",
    "    for i, j in enumerate(np.unique(y_set)):\n",
    "        ax[axes].scatter(X_set[y_set==j, 0], X_set[y_set==j, 1], c=cmap[i], label = j)          \n",
    "\n",
    "    ax[axes].set_xlim(X1.min(), X1.max())\n",
    "    ax[axes].set_ylim(X1.min(), X1.max())\n",
    "    ax[axes].set_title(f'Logistic Regression ({\"Train\" if not axes else \"Test\"} set)')\n",
    "    ax[axes].set_xlabel('Age')\n",
    "    ax[axes].set_ylabel('Estimated Salary')\n",
    "    ax[axes].legend();\n",
    "\n",
    "plot_log_reg(x_train, y_train, 0)\n",
    "plot_log_reg(x_test, y_test, 1)"
   ]
  },
  {
   "cell_type": "markdown",
   "metadata": {
    "id": "J3INm1qP0tjE"
   },
   "source": [
    "## Multiclass Classification\n",
    "\n",
    "From the documentation, ```sklearn.linear_model.LogisticRegression``` implements the one-vs-rest (OvR) scheme or multinomial for multiclass cases.\n",
    "\n",
    "This data science problem is to predict the species of flower based on its features.  Firstly, import the [dataset](https://github.com/mwaskom/seaborn-data/blob/master/iris.csv).  \n",
    "<img width=\"800px\" src=\"data:image/png;base64,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\"/>"
   ]
  },
  {
   "cell_type": "code",
   "execution_count": null,
   "metadata": {
    "colab": {
     "base_uri": "https://localhost:8080/",
     "height": 204
    },
    "id": "Y85MWhod5CC9",
    "outputId": "e4f82ef6-e15a-4f6e-95ae-2987cf749df1"
   },
   "outputs": [],
   "source": [
    "df_log2 = pd.read_csv('iris.csv')\n",
    "df_log2.head()"
   ]
  },
  {
   "cell_type": "markdown",
   "metadata": {
    "id": "Ba_WUdIiEnwf"
   },
   "source": [
    "Pre-process the data as usual; EDA won't be shown in the example here but it should be done to gain insight from the dataset.\n",
    "\n",
    "> Replace all instance of ```None``` below with your own code."
   ]
  },
  {
   "cell_type": "code",
   "execution_count": null,
   "metadata": {
    "id": "N325tPKZ1Es9"
   },
   "outputs": [],
   "source": [
    "# Extract x and y data\n",
    "x = df_log2.iloc[:, range(None)].values  ## Insert code here\n",
    "y = df_log2.iloc[:, None].values  ## Insert code here\n",
    "\n",
    "# Train-test split\n",
    "x_train, x_test, y_train, y_test = None (x, y, test_size=0.2, random_state=1)  ## Insert code here\n",
    "\n",
    "# Feature Scaling\n",
    "sc = StandardScaler()\n",
    "x_train = sc.fit_transform(x_train)\n",
    "x_test = sc.transform(x_test)"
   ]
  },
  {
   "cell_type": "markdown",
   "metadata": {
    "id": "k6TdSiFNH-2G"
   },
   "source": [
    "We will try out both OvR and Multinomial in the code blocks below.\n",
    "\n",
    "> Replace all instance of ```None``` below with your own code."
   ]
  },
  {
   "cell_type": "code",
   "execution_count": null,
   "metadata": {
    "colab": {
     "base_uri": "https://localhost:8080/"
    },
    "id": "Q1G1qnD-EHG7",
    "outputId": "77430d7e-b888-457a-debb-1cda621f5e90"
   },
   "outputs": [],
   "source": [
    "# Fitting logistic regression to the training set\n",
    "Classifier = LogisticRegression(random_state=0, multi_class='ovr')\n",
    "Classifier.fit(None, None)  ## Insert code here\n",
    "\n",
    "# Predicting the results\n",
    "print('\\033[94mOne-vs-rest (OvR) scheme\\033[0m')\n",
    "print('- Train accuracy score :', Classifier.score(x_train, y_train))\n",
    "print('- Test accuracy score  :', Classifier.score(x_test, y_test), end='\\n\\n')\n",
    "\n",
    "# Sample of predictions\n",
    "probs = Classifier.predict_proba(None)  ## Insert code here\n",
    "print(f'\\033[36mIndex\\tP({Classifier.classes_[0]})\\tP({Classifier.classes_[1]})\\tP({Classifier.classes_[2]})\\tPrediction\\033[0m')\n",
    "for i in range(10):\n",
    "    print(f'{i}\\t{probs[i,0].round(3)}\\t\\t{probs[i,1].round(3)}\\t\\t{probs[i,2].round(3)}\\t\\t{Classifier.predict(None)[i]}')  ## Insert code here"
   ]
  },
  {
   "cell_type": "code",
   "execution_count": null,
   "metadata": {
    "colab": {
     "base_uri": "https://localhost:8080/"
    },
    "id": "GCals7ViD54F",
    "outputId": "2c5b78b8-9e23-44f1-d7d6-5e5a619df2ae"
   },
   "outputs": [],
   "source": [
    "# Fitting logistic regression to the training set\n",
    "Classifier = LogisticRegression(random_state=0, multi_class=None)  ## Insert code here\n",
    "Classifier.fit(x_train, y_train)\n",
    "\n",
    "# Predicting the results\n",
    "print('\\033[94mMultinomial\\033[0m')\n",
    "print('- Train accuracy score :', Classifier.score(x_train, y_train))\n",
    "print('- Test accuracy score  :', Classifier.score(x_test, y_test), end='\\n\\n')\n",
    "\n",
    "# Sample of predictions\n",
    "probs = Classifier.predict_proba(x_test)  ## Insert code here\n",
    "print(f'\\033[36mIndex\\tP({Classifier.classes_[0]})\\tP({Classifier.classes_[1]})\\tP({Classifier.classes_[2]})\\tPrediction\\033[0m')\n",
    "for i in range(10):\n",
    "    print(f'{i}\\t{probs[i,0].round(3)}\\t\\t{probs[i,1].round(3)}\\t\\t{probs[i,2].round(3)}\\t\\t{Classifier.predict(x_test)[i]}')"
   ]
  },
  {
   "cell_type": "markdown",
   "metadata": {
    "id": "0emB3nNCEcVC"
   },
   "source": [
    "Check out the coefficients of the features used to make the classification (multinomial method)."
   ]
  },
  {
   "cell_type": "code",
   "execution_count": null,
   "metadata": {
    "colab": {
     "base_uri": "https://localhost:8080/"
    },
    "id": "65EnsP5MEMOw",
    "outputId": "01c10b98-10af-4e2c-b632-7dc8b15007a9"
   },
   "outputs": [],
   "source": [
    "Classifier.coef_"
   ]
  },
  {
   "cell_type": "markdown",
   "metadata": {
    "id": "g0v6krfmyDHi"
   },
   "source": [
    "===== End of Logistic Regression Part =====\n",
    "\n",
    "<br><hr>"
   ]
  },
  {
   "cell_type": "markdown",
   "metadata": {
    "id": "fVNqBz11E4zb"
   },
   "source": [
    "# Thank you for listening!\n",
    "\n",
    "That is all, we have come to the end of our workshop! There's also a way to implement binary and multiclass classification in neural networks. They  make use of the same *sigmoid* and *softmax* function that you have just learned as activation functions for the neurons, so don't forget them!  \n",
    "\n"
   ]
  }
 ],
 "metadata": {
  "colab": {
   "collapsed_sections": [],
   "name": "[Murata] Linear & Logistic Regression - Notebook",
   "provenance": [],
   "toc_visible": true
  },
  "kernelspec": {
   "display_name": "Python 3",
   "language": "python",
   "name": "python3"
  },
  "language_info": {
   "codemirror_mode": {
    "name": "ipython",
    "version": 3
   },
   "file_extension": ".py",
   "mimetype": "text/x-python",
   "name": "python",
   "nbconvert_exporter": "python",
   "pygments_lexer": "ipython3",
   "version": "3.7.3"
  },
  "toc": {
   "base_numbering": 1,
   "nav_menu": {},
   "number_sections": true,
   "sideBar": true,
   "skip_h1_title": false,
   "title_cell": "Table of Contents",
   "title_sidebar": "Contents",
   "toc_cell": false,
   "toc_position": {},
   "toc_section_display": true,
   "toc_window_display": false
  }
 },
 "nbformat": 4,
 "nbformat_minor": 1
}
